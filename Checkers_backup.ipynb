{
  "nbformat": 4,
  "nbformat_minor": 0,
  "metadata": {
    "kernelspec": {
      "display_name": "Python 3",
      "language": "python",
      "name": "python3"
    },
    "language_info": {
      "codemirror_mode": {
        "name": "ipython",
        "version": 3
      },
      "file_extension": ".py",
      "mimetype": "text/x-python",
      "name": "python",
      "nbconvert_exporter": "python",
      "pygments_lexer": "ipython3",
      "version": "3.7.6"
    },
    "colab": {
      "name": "Checkers_backup.ipynb",
      "provenance": []
    }
  },
  "cells": [
    {
      "cell_type": "code",
      "metadata": {
        "id": "rMoynIjf7YwU",
        "colab_type": "code",
        "colab": {}
      },
      "source": [
        "import chess"
      ],
      "execution_count": 2,
      "outputs": []
    },
    {
      "cell_type": "code",
      "metadata": {
        "id": "pxpjF1wp7Yw0",
        "colab_type": "code",
        "colab": {}
      },
      "source": [
        "class Checkers:\n",
        "    def __init__(self):\n",
        "        self.size = 8\n",
        "        self.turn = chess.BLACK\n",
        "        self.board = chess.Board(\"1p1p1p1p/p1p1p1p1/1p1p1p1p/8/8/P1P1P1P1/1P1P1P1P/P1P1P1P1 b KQkq - 0 4\")\n",
        "    \n",
        "    def isCellEmpty(self, i):\n",
        "        return self.board.piece_at(i) is None\n",
        "            \n",
        "    def ifIsPositionWithinBoundary(self, x, y):\n",
        "        return x>=0 and y>=0 and x<self.size and y<self.size\n",
        "    \n",
        "    def bottomRight(self, pos):\n",
        "        x, y = pos//self.size-1, pos%self.size+1\n",
        "        return x*self.size+y if self.ifIsPositionWithinBoundary(x,y) else None \n",
        "    \n",
        "    def bottomLeft(self, pos):\n",
        "        x, y = pos//self.size-1, pos%self.size-1\n",
        "        return x*self.size+y if self.ifIsPositionWithinBoundary(x,y) else None \n",
        "    \n",
        "    def topRight(self, pos):\n",
        "        x, y = pos//self.size+1, pos%self.size+1\n",
        "        return x*self.size+y if self.ifIsPositionWithinBoundary(x,y) else None \n",
        "        \n",
        "    def topLeft(self, pos):\n",
        "        x, y = pos//self.size+1, pos%self.size-1\n",
        "        return x*self.size+y if self.ifIsPositionWithinBoundary(x,y) else None\n",
        "    \n",
        "    def pieceAtPosition(self,pos):\n",
        "        return self.board.piece_at(pos)\n",
        "        \n",
        "    def validNeighbors(self,pos):\n",
        "        tl = self.topLeft(pos)\n",
        "        tr = self.topRight(pos)\n",
        "        bl = self.bottomLeft(pos)\n",
        "        br = self.bottomRight(pos)\n",
        "        valid = []\n",
        "        piece = self.pieceAtPosition(pos)\n",
        "        if piece is None:\n",
        "            raise Exception(\"Sorry, no piece present at position\" + str(pos))\n",
        "        \n",
        "        if piece.piece_type == chess.PAWN and piece.color == chess.WHITE:\n",
        "            if tl is not None:\n",
        "                valid.append(tl)\n",
        "            if tr is not None:\n",
        "                valid.append(tr)\n",
        "                \n",
        "        elif piece.piece_type == chess.PAWN and piece.color == chess.BLACK:\n",
        "            if bl is not None:\n",
        "                valid.append(bl)\n",
        "            if br is not None:\n",
        "                valid.append(br)\n",
        "                \n",
        "        else:\n",
        "            if tl is not None:\n",
        "                valid.append(tl)\n",
        "            if tr is not None:\n",
        "                valid.append(tr)\n",
        "            if bl is not None:\n",
        "                valid.append(bl)\n",
        "            if br is not None:\n",
        "                valid.append(br)\n",
        "                \n",
        "        return valid\n",
        "    \n",
        "        \n",
        "    def getOppColorPieces(self, neighbors, color):\n",
        "        return [neighbor for neighbor in neighbors if self.pieceAtPosition(neighbor) is not None \\\n",
        "                               and self.pieceAtPosition(neighbor).color is not color]\n",
        "    \n",
        "    def validJumps(self, pos1, pos2):\n",
        "        x1, y1 = pos1//self.size, pos1%self.size\n",
        "        x2, y2 = pos2//self.size, pos2%self.size\n",
        "        x, y = 2 *  x2 - x1, 2 * y2 - y1\n",
        "        return x*self.size+y if self.ifIsPositionWithinBoundary(x,y) and self.isCellEmpty(x*self.size+y) else None\n",
        "    \n",
        "    def getFirstJumpsForPos(self, pos):\n",
        "        jumps = []\n",
        "        oppColorPositons = self.getOppColorPieces(self.validNeighbors(pos), self.board.piece_at(pos).color)\n",
        "        for positions in oppColorPositons:\n",
        "            if self.validJumps(pos,positions) is not None:\n",
        "                jumps.append(self.validJumps(pos,positions))\n",
        "        return jumps\n",
        "            \n",
        "    def getAllFirstJumps(self, turn):\n",
        "        firstJumps = {}\n",
        "        allPiecesPosition = [position for position in self.board.piece_map().keys() if self.board.piece_at(position).color == turn]\n",
        "        for position in allPiecesPosition:\n",
        "            firstJumpPos = self.getFirstJumpsForPos(position)\n",
        "            if len(firstJumpPos) is not 0:\n",
        "                firstJumps[position] = firstJumpPos\n",
        "        return firstJumps\n",
        "    \n",
        "\n",
        "    def getCaptureMovesForPos(self, pos):\n",
        "\n",
        "        paths = []\n",
        "\n",
        "        for nextPos in self.getFirstJumpsForPos(pos):\n",
        "\n",
        "          pieceRemoved = self.makeMove(pos, nextPos)\n",
        "\n",
        "          remainingPaths = self.getCaptureMovesForPos(nextPos)\n",
        "\n",
        "          if not remainingPaths:\n",
        "            paths.append([nextPos])\n",
        "\n",
        "          else:\n",
        "            for remainingPath in remainingPaths:\n",
        "              paths.append([nextPos] + remainingPath)\n",
        "\n",
        "          self.unMove(pos, nextPos, pieceRemoved)\n",
        "        \n",
        "        return paths\n",
        "\n",
        "\n",
        "    def getAllCaptureMoves(self, turn):\n",
        "      moves = {}\n",
        "      allPiecesPosition = [position for position in self.board.piece_map().keys() if self.board.piece_at(position).color == turn]\n",
        "      for position in allPiecesPosition:\n",
        "          captureMoves = self.getCaptureMovesForPos(position)\n",
        "          if captureMoves:\n",
        "              moves[position] = captureMoves\n",
        "      return moves\n",
        "        \n",
        "\n",
        "\n",
        "            \n",
        "    def capturePiece(self, fromPos, toPos):\n",
        "      x1, y1 = fromPos//self.size, fromPos%self.size\n",
        "      x2, y2 = toPos//self.size, toPos%self.size\n",
        "\n",
        "      # add checks for valid jump\n",
        "      # add checks for piece in between\n",
        "\n",
        "      x, y = (x1 + x2) // 2, (y1 + y2) // 2\n",
        "\n",
        "      return self.board.remove_piece_at(x * self.size + y)  \n",
        "                \n",
        "    def unCapturePiece(self, fromPos, toPos, piece):\n",
        "      x1, y1 = fromPos//self.size, fromPos%self.size\n",
        "      x2, y2 = toPos//self.size, toPos%self.size\n",
        "\n",
        "      # add checks for valid jump\n",
        "      # add checks for piece in between\n",
        "\n",
        "      x, y = (x1 + x2) // 2, (y1 + y2) // 2\n",
        "\n",
        "      self.board.set_piece_at(x * self.size + y, piece)  \n",
        "\n",
        "\n",
        "    \n",
        "    def getRemainingMovesForPos(self, pos):\n",
        "        return [positions for positions in self.validNeighbors(pos) if self.isCellEmpty(positions)]\n",
        "    \n",
        "    \n",
        "    def getAllRemainingMoves(self, turn):\n",
        "        moves = {}\n",
        "        allPiecesPosition = [position for position in self.board.piece_map().keys() if self.board.piece_at(position).color == turn]\n",
        "        for position in allPiecesPosition:\n",
        "            moveForPos = self.getRemainingMovesForPos(position)\n",
        "            if len(moveForPos) is not 0:\n",
        "                moves[position] = moveForPos\n",
        "        return moves\n",
        "    \n",
        "    def isValidMove(self, i, j):\n",
        "      # complete\n",
        "        return True\n",
        "    \n",
        "    def isCaptureMove(self, i, j):\n",
        "      return abs((j % self.size) - (i % self.size)) == 2\n",
        "\n",
        "    def makeMove(self, i, j):\n",
        "        if self.isValidMove(i, j):\n",
        "            piece = self.board.remove_piece_at(i)\n",
        "            self.board.set_piece_at(j, piece)\n",
        "        \n",
        "        if self.isCaptureMove(i, j):\n",
        "          return self.capturePiece(i, j)\n",
        "        \n",
        "        else:\n",
        "          return None\n",
        "\n",
        "    def unMove(self, i, j, pieceToPlace):\n",
        "      piece = self.board.remove_piece_at(j)\n",
        "      self.board.set_piece_at(i, piece)\n",
        "\n",
        "      if pieceToPlace is not None:\n",
        "        self.unCapturePiece(i, j, pieceToPlace)    \n",
        "    \n",
        "#     def minimax()\n",
        "        "
      ],
      "execution_count": 46,
      "outputs": []
    },
    {
      "cell_type": "code",
      "metadata": {
        "id": "Gke9jKRS7YxW",
        "colab_type": "code",
        "colab": {
          "base_uri": "https://localhost:8080/",
          "height": 104
        },
        "outputId": "57fc774a-e25c-403e-f90b-18243f8eb4d8"
      },
      "source": [
        "import unittest\n",
        "import chess\n",
        "class UnitTest(unittest.TestCase):\n",
        "    \n",
        "    def setUp(self):\n",
        "        self.checkers = Checkers()\n",
        "        \n",
        "    \n",
        "    def test_initialize_board_correct(self):\n",
        "        expected_board = chess.Board(\"1p1p1p1p/p1p1p1p1/1p1p1p1p/8/8/P1P1P1P1/1P1P1P1P/P1P1P1P1 b KQkq - 0 4\")\n",
        "        self.assertEqual(expected_board, self.checkers.board)\n",
        "    \n",
        "    def test_initialize_board_incorrect(self):\n",
        "        expected_board = chess.Board(\"p1p1ppp1/1p1p1p1p/p1p1p1p1/8/8/1P1P1P1P/P1P1P1P1/1P1P1P1P b KQkq - 0 4\")\n",
        "        self.assertNotEqual(expected_board, self.checkers.board)\n",
        "    \n",
        "    def test_isEmpty(self):\n",
        "        self.assertTrue(self.checkers.isCellEmpty(27))\n",
        "        self.assertFalse(self.checkers.isCellEmpty(9))\n",
        "    \n",
        "    def test_isValidBottomRight(self):\n",
        "        self.assertEqual(self.checkers.bottomRight(9),2)\n",
        "        \n",
        "    def test_isValidBottomLeft(self):\n",
        "        self.assertEqual(self.checkers.bottomLeft(9),0)\n",
        "        \n",
        "    def test_isValidTopRight(self):\n",
        "        self.assertEqual(self.checkers.topRight(9),18)\n",
        "        \n",
        "    def test_isValidTopLeft(self):\n",
        "        self.assertEqual(self.checkers.topLeft(9),16)\n",
        "    \n",
        "    def test_isInvalidBottomRight(self):\n",
        "        self.assertEqual(self.checkers.bottomRight(7),None)\n",
        "        \n",
        "    def test_isInvalidBottomLeft(self):\n",
        "        self.assertEqual(self.checkers.bottomLeft(7),None)\n",
        "        \n",
        "    def test_isInvalidTopRight(self):\n",
        "        self.assertEqual(self.checkers.topRight(58),None)\n",
        "        \n",
        "    def test_isInvalidTopLeft(self):\n",
        "        self.assertEqual(self.checkers.topLeft(58),None)\n",
        "        \n",
        "    def test_isValidPositionPiece(self):\n",
        "        piece = self.checkers.pieceAtPosition(0)\n",
        "        self.assertEqual(chess.PAWN, piece.piece_type)\n",
        "        self.assertEqual(chess.WHITE, piece.color)\n",
        "    \n",
        "    def test_isNotValidPositionPiece(self):\n",
        "        self.assertEqual(self.checkers.pieceAtPosition(1),None)\n",
        "    \n",
        "    def test_isValidNeighbors(self):\n",
        "        checkersLocal = Checkers()\n",
        "        checkersLocal.board.set_piece_at(11,chess.Piece(chess.KING, chess.WHITE))\n",
        "        self.assertEqual(set(checkersLocal.validNeighbors(11)), set([2,4,18,20]))\n",
        "        self.assertEqual(self.checkers.validNeighbors(0), [9])\n",
        "    \n",
        "    def test_getOppColorPieces(self):\n",
        "        self.assertEqual(set([61,63]) ,set(self.checkers.getOppColorPieces([0,1,2,61,63], chess.WHITE)))\n",
        "        self.assertEqual(set([0,2]) ,set(self.checkers.getOppColorPieces([0,1,2,61,63], chess.BLACK)))\n",
        "    \n",
        "    def test_validJumps(self):\n",
        "        checkersLocal = Checkers()\n",
        "        checkersLocal.board = chess.Board(\"1p1p1p1p/p1p1p1p1/1p1p1p1p/5p2/P1p1p1P1/P1PPP1P1/1P1P1P1P/P1P1P1P1 b KQkq - 0 4\")\n",
        "        self.assertTrue(checkersLocal.validJumps(19,26))\n",
        "        self.assertFalse(checkersLocal.validJumps(19,28))\n",
        "        \n",
        "    def test_getFirstJumpsForPos(self):\n",
        "        checkersLocal = Checkers()\n",
        "        checkersLocal.board = chess.Board(\"1p1p1p1p/p1p1p1p1/1p1p1p1p/8/P1p1p1P1/P1PPP1P1/1P1P1P1P/P1P1P1P1 b KQkq - 0 4\")\n",
        "        self.assertEqual([33, 37], checkersLocal.getFirstJumpsForPos(19))\n",
        "        self.assertEqual([10], checkersLocal.getFirstJumpsForPos(28))\n",
        "    \n",
        "    def test_getAllFirstJumps(self):\n",
        "        checkersLocal = Checkers()\n",
        "        checkersLocal.board = chess.Board(\"1p1p1p1p/p1p1p1p1/1p1p1p1p/5p2/P1p1p1P1/P1PPP1P1/1P1P1P1P/P1P1P1P1 b KQkq - 0 4\")\n",
        "        self.assertEqual({26: [12], 28: [10], 37: [23]}, checkersLocal.getAllFirstJumps(chess.BLACK))\n",
        "        self.assertEqual({19: [33], 30: [44]}, checkersLocal.getAllFirstJumps(chess.WHITE))\n",
        "    \n",
        "    def test_getRemainingMovesForPos(self):\n",
        "        self.assertEqual([], self.checkers.getRemainingMovesForPos(0))\n",
        "        self.assertEqual([25, 27], self.checkers.getRemainingMovesForPos(18))\n",
        "        self.assertEqual([], self.checkers.getRemainingMovesForPos(63))\n",
        "        self.assertEqual([38], self.checkers.getRemainingMovesForPos(47))\n",
        "    \n",
        "    def test_getAllRemainingMoves(self):\n",
        "        self.assertEqual({16: [25], 18: [25, 27], 20: [27, 29], 22: [29, 31]}, self.checkers.getAllRemainingMoves(chess.WHITE))\n",
        "        self.assertEqual({41: [32, 34], 43: [34, 36], 45: [36, 38], 47: [38]}, self.checkers.getAllRemainingMoves(chess.BLACK))\n",
        "    \n",
        "\n",
        "    def test_getCaptureMovesForPos(self):\n",
        "      checkersLocal = Checkers()\n",
        "      checkersLocal.board = chess.Board(\"1p1p1p1p/p1p1p1p1/1ppppppp/8/P1p1p1P1/P1PPP1P1/1P1P1P1P/P1P1P1P1 b KQkq - 0 4\")\n",
        "      self.assertEqual([[33, 51], [37, 51], [37, 55]], checkersLocal.getCaptureMovesForPos(19))\n",
        "\n",
        "    def test_getAllCaptureMoves(self):\n",
        "      checkersLocal = Checkers()\n",
        "      checkersLocal.board = chess.Board(\"1p1p1p1p/p1p1p1p1/1ppppppp/8/P1p1p1P1/P1PPP1P1/1P1P1P1P/P1P1P1P1 b KQkq - 0 4\")\n",
        "      self.assertEqual({19: [[33, 51], [37, 51], [37, 55]]}, checkersLocal.getAllCaptureMoves(chess.WHITE))\n",
        "\n",
        "    def test_makeMove(self):\n",
        "      checkersLocal = Checkers()\n",
        "      checkersLocal.board = chess.Board(\"1p1p1p1p/p1p1p1p1/1ppp1ppp/8/P1p1p1P1/P1PPP1P1/1P1P1P1P/P1P1P1P1 b KQkq - 0 4\")\n",
        "      piece = checkersLocal.makeMove(19, 33)\n",
        "      self.assertEqual(chess.BLACK, piece.color)\n",
        "      self.assertEqual(chess.PAWN, piece.piece_type)\n",
        "      self.assertTrue(checkersLocal.isCellEmpty(26))\n",
        "      self.assertTrue(checkersLocal.isCellEmpty(19))\n",
        "      piecePlaced = checkersLocal.board.piece_at(33)\n",
        "      self.assertEqual(chess.WHITE, piecePlaced.color)\n",
        "      self.assertEqual(chess.PAWN, piecePlaced.piece_type)\n",
        "\n",
        "    def test_unMove(self):\n",
        "      checkersLocal = Checkers()\n",
        "      checkersLocal.board = chess.Board(\"1p1p1p1p/p1p1p1p1/1ppp1ppp/8/P1p1p1P1/P1PPP1P1/1P1P1P1P/P1P1P1P1 b KQkq - 0 4\")\n",
        "      checkersLocal.unMove(19, 33, checkersLocal.makeMove(19, 33))\n",
        "\n",
        "      self.assertEqual(chess.Board(\"1p1p1p1p/p1p1p1p1/1ppp1ppp/8/P1p1p1P1/P1PPP1P1/1P1P1P1P/P1P1P1P1 b KQkq - 0 4\"), checkersLocal.board)\n",
        "        \n",
        "if __name__ == '__main__':\n",
        "    unittest.main(argv=['first-arg-is-ignored'], exit=False)  "
      ],
      "execution_count": 49,
      "outputs": [
        {
          "output_type": "stream",
          "text": [
            "........................\n",
            "----------------------------------------------------------------------\n",
            "Ran 24 tests in 0.030s\n",
            "\n",
            "OK\n"
          ],
          "name": "stderr"
        }
      ]
    },
    {
      "cell_type": "code",
      "metadata": {
        "id": "YSyiIr8g7Yxu",
        "colab_type": "code",
        "colab": {},
        "outputId": "8ab7de11-929d-4236-a752-1a4118911cea"
      },
      "source": [
        "# [[51]]\n",
        "# [[51], [55]]\n",
        "\n",
        "# test = [1, 2, 3]\n",
        "test = map(lambda x:list(x), test)\n",
        "# print(list(test))\n",
        "list(1)"
      ],
      "execution_count": null,
      "outputs": [
        {
          "output_type": "error",
          "ename": "TypeError",
          "evalue": "'int' object is not iterable",
          "traceback": [
            "\u001b[1;31m---------------------------------------------------------------------------\u001b[0m",
            "\u001b[1;31mTypeError\u001b[0m                                 Traceback (most recent call last)",
            "\u001b[1;32m<ipython-input-24-c74a4eba109d>\u001b[0m in \u001b[0;36m<module>\u001b[1;34m\u001b[0m\n\u001b[0;32m      2\u001b[0m \u001b[1;31m# test = map(lambda x:list(x), test)\u001b[0m\u001b[1;33m\u001b[0m\u001b[1;33m\u001b[0m\u001b[1;33m\u001b[0m\u001b[0m\n\u001b[0;32m      3\u001b[0m \u001b[1;31m# print(list(test))\u001b[0m\u001b[1;33m\u001b[0m\u001b[1;33m\u001b[0m\u001b[1;33m\u001b[0m\u001b[0m\n\u001b[1;32m----> 4\u001b[1;33m \u001b[0mlist\u001b[0m\u001b[1;33m(\u001b[0m\u001b[1;36m1\u001b[0m\u001b[1;33m)\u001b[0m\u001b[1;33m\u001b[0m\u001b[1;33m\u001b[0m\u001b[0m\n\u001b[0m",
            "\u001b[1;31mTypeError\u001b[0m: 'int' object is not iterable"
          ]
        }
      ]
    },
    {
      "cell_type": "code",
      "metadata": {
        "id": "OMAwK_5t7YyD",
        "colab_type": "code",
        "colab": {}
      },
      "source": [
        "def fn(a):\n",
        "    l = []\n",
        "    l.append(a)\n",
        "    return l\n",
        "\n",
        "test = [[1], [2], [3]]\n",
        "test = map(lambda x,y: x+y,[[1]], test)\n",
        "\n",
        "    "
      ],
      "execution_count": null,
      "outputs": []
    },
    {
      "cell_type": "code",
      "metadata": {
        "id": "jG0foIc07Yya",
        "colab_type": "code",
        "colab": {},
        "outputId": "77747b2b-2be2-4da1-b3d0-e94466475ed6"
      },
      "source": [
        "list(test)"
      ],
      "execution_count": null,
      "outputs": [
        {
          "output_type": "execute_result",
          "data": {
            "text/plain": [
              "[[1, 1]]"
            ]
          },
          "metadata": {
            "tags": []
          },
          "execution_count": 38
        }
      ]
    },
    {
      "cell_type": "code",
      "metadata": {
        "id": "ymTHGG6_7Yy1",
        "colab_type": "code",
        "colab": {
          "base_uri": "https://localhost:8080/",
          "height": 421
        },
        "outputId": "8dcad2fb-6d64-4d3a-8cd9-9325adcbfb0f"
      },
      "source": [
        "checkers = Checkers()\n",
        "checkers.board = chess.Board(\"1p1p1p1p/p1p1p1p1/1ppppppp/8/P1p1p1P1/P1PPP1P1/1P1P1P1P/P1P1P1P1 b KQkq - 0 4\")\n",
        "checkers.board"
      ],
      "execution_count": 10,
      "outputs": [
        {
          "output_type": "execute_result",
          "data": {
            "text/plain": [
              "Board('1p1p1p1p/p1p1p1p1/1ppp1ppp/8/P1p1p1P1/P1PPP1P1/1P1P1P1P/P1P1P1P1 b - - 0 4')"
            ],
            "image/svg+xml": "<svg height=\"400\" version=\"1.1\" viewBox=\"0 0 400 400\" width=\"400\" xmlns=\"http://www.w3.org/2000/svg\" xmlns:xlink=\"http://www.w3.org/1999/xlink\"><defs><g class=\"white pawn\" id=\"white-pawn\"><path d=\"M22 9c-2.21 0-4 1.79-4 4 0 .89.29 1.71.78 2.38-1.95 1.12-3.28 3.21-3.28 5.62 0 2.03.94 3.84 2.41 5.03-3 1.06-7.41 5.55-7.41 13.47h23c0-7.92-4.41-12.41-7.41-13.47 1.47-1.19 2.41-3 2.41-5.03 0-2.41-1.33-4.5-3.28-5.62.49-.67.78-1.49.78-2.38 0-2.21-1.79-4-4-4z\" fill=\"#fff\" stroke=\"#000\" stroke-linecap=\"round\" stroke-width=\"1.5\" /></g><g class=\"black pawn\" id=\"black-pawn\"><path d=\"M22 9c-2.21 0-4 1.79-4 4 0 .89.29 1.71.78 2.38-1.95 1.12-3.28 3.21-3.28 5.62 0 2.03.94 3.84 2.41 5.03-3 1.06-7.41 5.55-7.41 13.47h23c0-7.92-4.41-12.41-7.41-13.47 1.47-1.19 2.41-3 2.41-5.03 0-2.41-1.33-4.5-3.28-5.62.49-.67.78-1.49.78-2.38 0-2.21-1.79-4-4-4z\" stroke=\"#000\" stroke-linecap=\"round\" stroke-width=\"1.5\" /></g></defs><rect class=\"square dark a1\" fill=\"#d18b47\" height=\"45\" stroke=\"none\" width=\"45\" x=\"20\" y=\"335\" /><use transform=\"translate(20, 335)\" xlink:href=\"#white-pawn\" /><rect class=\"square light b1\" fill=\"#ffce9e\" height=\"45\" stroke=\"none\" width=\"45\" x=\"65\" y=\"335\" /><rect class=\"square dark c1\" fill=\"#d18b47\" height=\"45\" stroke=\"none\" width=\"45\" x=\"110\" y=\"335\" /><use transform=\"translate(110, 335)\" xlink:href=\"#white-pawn\" /><rect class=\"square light d1\" fill=\"#ffce9e\" height=\"45\" stroke=\"none\" width=\"45\" x=\"155\" y=\"335\" /><rect class=\"square dark e1\" fill=\"#d18b47\" height=\"45\" stroke=\"none\" width=\"45\" x=\"200\" y=\"335\" /><use transform=\"translate(200, 335)\" xlink:href=\"#white-pawn\" /><rect class=\"square light f1\" fill=\"#ffce9e\" height=\"45\" stroke=\"none\" width=\"45\" x=\"245\" y=\"335\" /><rect class=\"square dark g1\" fill=\"#d18b47\" height=\"45\" stroke=\"none\" width=\"45\" x=\"290\" y=\"335\" /><use transform=\"translate(290, 335)\" xlink:href=\"#white-pawn\" /><rect class=\"square light h1\" fill=\"#ffce9e\" height=\"45\" stroke=\"none\" width=\"45\" x=\"335\" y=\"335\" /><rect class=\"square light a2\" fill=\"#ffce9e\" height=\"45\" stroke=\"none\" width=\"45\" x=\"20\" y=\"290\" /><rect class=\"square dark b2\" fill=\"#d18b47\" height=\"45\" stroke=\"none\" width=\"45\" x=\"65\" y=\"290\" /><use transform=\"translate(65, 290)\" xlink:href=\"#white-pawn\" /><rect class=\"square light c2\" fill=\"#ffce9e\" height=\"45\" stroke=\"none\" width=\"45\" x=\"110\" y=\"290\" /><rect class=\"square dark d2\" fill=\"#d18b47\" height=\"45\" stroke=\"none\" width=\"45\" x=\"155\" y=\"290\" /><use transform=\"translate(155, 290)\" xlink:href=\"#white-pawn\" /><rect class=\"square light e2\" fill=\"#ffce9e\" height=\"45\" stroke=\"none\" width=\"45\" x=\"200\" y=\"290\" /><rect class=\"square dark f2\" fill=\"#d18b47\" height=\"45\" stroke=\"none\" width=\"45\" x=\"245\" y=\"290\" /><use transform=\"translate(245, 290)\" xlink:href=\"#white-pawn\" /><rect class=\"square light g2\" fill=\"#ffce9e\" height=\"45\" stroke=\"none\" width=\"45\" x=\"290\" y=\"290\" /><rect class=\"square dark h2\" fill=\"#d18b47\" height=\"45\" stroke=\"none\" width=\"45\" x=\"335\" y=\"290\" /><use transform=\"translate(335, 290)\" xlink:href=\"#white-pawn\" /><rect class=\"square dark a3\" fill=\"#d18b47\" height=\"45\" stroke=\"none\" width=\"45\" x=\"20\" y=\"245\" /><use transform=\"translate(20, 245)\" xlink:href=\"#white-pawn\" /><rect class=\"square light b3\" fill=\"#ffce9e\" height=\"45\" stroke=\"none\" width=\"45\" x=\"65\" y=\"245\" /><rect class=\"square dark c3\" fill=\"#d18b47\" height=\"45\" stroke=\"none\" width=\"45\" x=\"110\" y=\"245\" /><use transform=\"translate(110, 245)\" xlink:href=\"#white-pawn\" /><rect class=\"square light d3\" fill=\"#ffce9e\" height=\"45\" stroke=\"none\" width=\"45\" x=\"155\" y=\"245\" /><use transform=\"translate(155, 245)\" xlink:href=\"#white-pawn\" /><rect class=\"square dark e3\" fill=\"#d18b47\" height=\"45\" stroke=\"none\" width=\"45\" x=\"200\" y=\"245\" /><use transform=\"translate(200, 245)\" xlink:href=\"#white-pawn\" /><rect class=\"square light f3\" fill=\"#ffce9e\" height=\"45\" stroke=\"none\" width=\"45\" x=\"245\" y=\"245\" /><rect class=\"square dark g3\" fill=\"#d18b47\" height=\"45\" stroke=\"none\" width=\"45\" x=\"290\" y=\"245\" /><use transform=\"translate(290, 245)\" xlink:href=\"#white-pawn\" /><rect class=\"square light h3\" fill=\"#ffce9e\" height=\"45\" stroke=\"none\" width=\"45\" x=\"335\" y=\"245\" /><rect class=\"square light a4\" fill=\"#ffce9e\" height=\"45\" stroke=\"none\" width=\"45\" x=\"20\" y=\"200\" /><use transform=\"translate(20, 200)\" xlink:href=\"#white-pawn\" /><rect class=\"square dark b4\" fill=\"#d18b47\" height=\"45\" stroke=\"none\" width=\"45\" x=\"65\" y=\"200\" /><rect class=\"square light c4\" fill=\"#ffce9e\" height=\"45\" stroke=\"none\" width=\"45\" x=\"110\" y=\"200\" /><use transform=\"translate(110, 200)\" xlink:href=\"#black-pawn\" /><rect class=\"square dark d4\" fill=\"#d18b47\" height=\"45\" stroke=\"none\" width=\"45\" x=\"155\" y=\"200\" /><rect class=\"square light e4\" fill=\"#ffce9e\" height=\"45\" stroke=\"none\" width=\"45\" x=\"200\" y=\"200\" /><use transform=\"translate(200, 200)\" xlink:href=\"#black-pawn\" /><rect class=\"square dark f4\" fill=\"#d18b47\" height=\"45\" stroke=\"none\" width=\"45\" x=\"245\" y=\"200\" /><rect class=\"square light g4\" fill=\"#ffce9e\" height=\"45\" stroke=\"none\" width=\"45\" x=\"290\" y=\"200\" /><use transform=\"translate(290, 200)\" xlink:href=\"#white-pawn\" /><rect class=\"square dark h4\" fill=\"#d18b47\" height=\"45\" stroke=\"none\" width=\"45\" x=\"335\" y=\"200\" /><rect class=\"square dark a5\" fill=\"#d18b47\" height=\"45\" stroke=\"none\" width=\"45\" x=\"20\" y=\"155\" /><rect class=\"square light b5\" fill=\"#ffce9e\" height=\"45\" stroke=\"none\" width=\"45\" x=\"65\" y=\"155\" /><rect class=\"square dark c5\" fill=\"#d18b47\" height=\"45\" stroke=\"none\" width=\"45\" x=\"110\" y=\"155\" /><rect class=\"square light d5\" fill=\"#ffce9e\" height=\"45\" stroke=\"none\" width=\"45\" x=\"155\" y=\"155\" /><rect class=\"square dark e5\" fill=\"#d18b47\" height=\"45\" stroke=\"none\" width=\"45\" x=\"200\" y=\"155\" /><rect class=\"square light f5\" fill=\"#ffce9e\" height=\"45\" stroke=\"none\" width=\"45\" x=\"245\" y=\"155\" /><rect class=\"square dark g5\" fill=\"#d18b47\" height=\"45\" stroke=\"none\" width=\"45\" x=\"290\" y=\"155\" /><rect class=\"square light h5\" fill=\"#ffce9e\" height=\"45\" stroke=\"none\" width=\"45\" x=\"335\" y=\"155\" /><rect class=\"square light a6\" fill=\"#ffce9e\" height=\"45\" stroke=\"none\" width=\"45\" x=\"20\" y=\"110\" /><rect class=\"square dark b6\" fill=\"#d18b47\" height=\"45\" stroke=\"none\" width=\"45\" x=\"65\" y=\"110\" /><use transform=\"translate(65, 110)\" xlink:href=\"#black-pawn\" /><rect class=\"square light c6\" fill=\"#ffce9e\" height=\"45\" stroke=\"none\" width=\"45\" x=\"110\" y=\"110\" /><use transform=\"translate(110, 110)\" xlink:href=\"#black-pawn\" /><rect class=\"square dark d6\" fill=\"#d18b47\" height=\"45\" stroke=\"none\" width=\"45\" x=\"155\" y=\"110\" /><use transform=\"translate(155, 110)\" xlink:href=\"#black-pawn\" /><rect class=\"square light e6\" fill=\"#ffce9e\" height=\"45\" stroke=\"none\" width=\"45\" x=\"200\" y=\"110\" /><rect class=\"square dark f6\" fill=\"#d18b47\" height=\"45\" stroke=\"none\" width=\"45\" x=\"245\" y=\"110\" /><use transform=\"translate(245, 110)\" xlink:href=\"#black-pawn\" /><rect class=\"square light g6\" fill=\"#ffce9e\" height=\"45\" stroke=\"none\" width=\"45\" x=\"290\" y=\"110\" /><use transform=\"translate(290, 110)\" xlink:href=\"#black-pawn\" /><rect class=\"square dark h6\" fill=\"#d18b47\" height=\"45\" stroke=\"none\" width=\"45\" x=\"335\" y=\"110\" /><use transform=\"translate(335, 110)\" xlink:href=\"#black-pawn\" /><rect class=\"square dark a7\" fill=\"#d18b47\" height=\"45\" stroke=\"none\" width=\"45\" x=\"20\" y=\"65\" /><use transform=\"translate(20, 65)\" xlink:href=\"#black-pawn\" /><rect class=\"square light b7\" fill=\"#ffce9e\" height=\"45\" stroke=\"none\" width=\"45\" x=\"65\" y=\"65\" /><rect class=\"square dark c7\" fill=\"#d18b47\" height=\"45\" stroke=\"none\" width=\"45\" x=\"110\" y=\"65\" /><use transform=\"translate(110, 65)\" xlink:href=\"#black-pawn\" /><rect class=\"square light d7\" fill=\"#ffce9e\" height=\"45\" stroke=\"none\" width=\"45\" x=\"155\" y=\"65\" /><rect class=\"square dark e7\" fill=\"#d18b47\" height=\"45\" stroke=\"none\" width=\"45\" x=\"200\" y=\"65\" /><use transform=\"translate(200, 65)\" xlink:href=\"#black-pawn\" /><rect class=\"square light f7\" fill=\"#ffce9e\" height=\"45\" stroke=\"none\" width=\"45\" x=\"245\" y=\"65\" /><rect class=\"square dark g7\" fill=\"#d18b47\" height=\"45\" stroke=\"none\" width=\"45\" x=\"290\" y=\"65\" /><use transform=\"translate(290, 65)\" xlink:href=\"#black-pawn\" /><rect class=\"square light h7\" fill=\"#ffce9e\" height=\"45\" stroke=\"none\" width=\"45\" x=\"335\" y=\"65\" /><rect class=\"square light a8\" fill=\"#ffce9e\" height=\"45\" stroke=\"none\" width=\"45\" x=\"20\" y=\"20\" /><rect class=\"square dark b8\" fill=\"#d18b47\" height=\"45\" stroke=\"none\" width=\"45\" x=\"65\" y=\"20\" /><use transform=\"translate(65, 20)\" xlink:href=\"#black-pawn\" /><rect class=\"square light c8\" fill=\"#ffce9e\" height=\"45\" stroke=\"none\" width=\"45\" x=\"110\" y=\"20\" /><rect class=\"square dark d8\" fill=\"#d18b47\" height=\"45\" stroke=\"none\" width=\"45\" x=\"155\" y=\"20\" /><use transform=\"translate(155, 20)\" xlink:href=\"#black-pawn\" /><rect class=\"square light e8\" fill=\"#ffce9e\" height=\"45\" stroke=\"none\" width=\"45\" x=\"200\" y=\"20\" /><rect class=\"square dark f8\" fill=\"#d18b47\" height=\"45\" stroke=\"none\" width=\"45\" x=\"245\" y=\"20\" /><use transform=\"translate(245, 20)\" xlink:href=\"#black-pawn\" /><rect class=\"square light g8\" fill=\"#ffce9e\" height=\"45\" stroke=\"none\" width=\"45\" x=\"290\" y=\"20\" /><rect class=\"square dark h8\" fill=\"#d18b47\" height=\"45\" stroke=\"none\" width=\"45\" x=\"335\" y=\"20\" /><use transform=\"translate(335, 20)\" xlink:href=\"#black-pawn\" /><text alignment-baseline=\"middle\" font-size=\"14\" text-anchor=\"middle\" x=\"42\" y=\"10\">a</text><text alignment-baseline=\"middle\" font-size=\"14\" text-anchor=\"middle\" x=\"42\" y=\"390\">a</text><text alignment-baseline=\"middle\" font-size=\"14\" text-anchor=\"middle\" x=\"87\" y=\"10\">b</text><text alignment-baseline=\"middle\" font-size=\"14\" text-anchor=\"middle\" x=\"87\" y=\"390\">b</text><text alignment-baseline=\"middle\" font-size=\"14\" text-anchor=\"middle\" x=\"132\" y=\"10\">c</text><text alignment-baseline=\"middle\" font-size=\"14\" text-anchor=\"middle\" x=\"132\" y=\"390\">c</text><text alignment-baseline=\"middle\" font-size=\"14\" text-anchor=\"middle\" x=\"177\" y=\"10\">d</text><text alignment-baseline=\"middle\" font-size=\"14\" text-anchor=\"middle\" x=\"177\" y=\"390\">d</text><text alignment-baseline=\"middle\" font-size=\"14\" text-anchor=\"middle\" x=\"222\" y=\"10\">e</text><text alignment-baseline=\"middle\" font-size=\"14\" text-anchor=\"middle\" x=\"222\" y=\"390\">e</text><text alignment-baseline=\"middle\" font-size=\"14\" text-anchor=\"middle\" x=\"267\" y=\"10\">f</text><text alignment-baseline=\"middle\" font-size=\"14\" text-anchor=\"middle\" x=\"267\" y=\"390\">f</text><text alignment-baseline=\"middle\" font-size=\"14\" text-anchor=\"middle\" x=\"312\" y=\"10\">g</text><text alignment-baseline=\"middle\" font-size=\"14\" text-anchor=\"middle\" x=\"312\" y=\"390\">g</text><text alignment-baseline=\"middle\" font-size=\"14\" text-anchor=\"middle\" x=\"357\" y=\"10\">h</text><text alignment-baseline=\"middle\" font-size=\"14\" text-anchor=\"middle\" x=\"357\" y=\"390\">h</text><text alignment-baseline=\"middle\" font-size=\"14\" text-anchor=\"middle\" x=\"10\" y=\"357\">1</text><text alignment-baseline=\"middle\" font-size=\"14\" text-anchor=\"middle\" x=\"390\" y=\"357\">1</text><text alignment-baseline=\"middle\" font-size=\"14\" text-anchor=\"middle\" x=\"10\" y=\"312\">2</text><text alignment-baseline=\"middle\" font-size=\"14\" text-anchor=\"middle\" x=\"390\" y=\"312\">2</text><text alignment-baseline=\"middle\" font-size=\"14\" text-anchor=\"middle\" x=\"10\" y=\"267\">3</text><text alignment-baseline=\"middle\" font-size=\"14\" text-anchor=\"middle\" x=\"390\" y=\"267\">3</text><text alignment-baseline=\"middle\" font-size=\"14\" text-anchor=\"middle\" x=\"10\" y=\"222\">4</text><text alignment-baseline=\"middle\" font-size=\"14\" text-anchor=\"middle\" x=\"390\" y=\"222\">4</text><text alignment-baseline=\"middle\" font-size=\"14\" text-anchor=\"middle\" x=\"10\" y=\"177\">5</text><text alignment-baseline=\"middle\" font-size=\"14\" text-anchor=\"middle\" x=\"390\" y=\"177\">5</text><text alignment-baseline=\"middle\" font-size=\"14\" text-anchor=\"middle\" x=\"10\" y=\"132\">6</text><text alignment-baseline=\"middle\" font-size=\"14\" text-anchor=\"middle\" x=\"390\" y=\"132\">6</text><text alignment-baseline=\"middle\" font-size=\"14\" text-anchor=\"middle\" x=\"10\" y=\"87\">7</text><text alignment-baseline=\"middle\" font-size=\"14\" text-anchor=\"middle\" x=\"390\" y=\"87\">7</text><text alignment-baseline=\"middle\" font-size=\"14\" text-anchor=\"middle\" x=\"10\" y=\"42\">8</text><text alignment-baseline=\"middle\" font-size=\"14\" text-anchor=\"middle\" x=\"390\" y=\"42\">8</text></svg>"
          },
          "metadata": {
            "tags": []
          },
          "execution_count": 10
        }
      ]
    },
    {
      "cell_type": "code",
      "metadata": {
        "id": "QnE7R3qgSd6P",
        "colab_type": "code",
        "colab": {
          "base_uri": "https://localhost:8080/",
          "height": 421
        },
        "outputId": "f8231535-c0d1-477d-f75d-981919cc1ed3"
      },
      "source": [
        "checkersLocal = Checkers()\n",
        "checkersLocal.board = chess.Board(\"1p1p1p1p/p1p1p1p1/1ppppppp/8/P1p1p1P1/P1PPP1P1/1P1P1P1P/P1P1P1P1 b KQkq - 0 4\")\n",
        "checkersLocal.board"
      ],
      "execution_count": 45,
      "outputs": [
        {
          "output_type": "execute_result",
          "data": {
            "text/plain": [
              "Board('1p1p1p1p/p1p1p1p1/1ppppppp/8/P1p1p1P1/P1PPP1P1/1P1P1P1P/P1P1P1P1 b - - 0 4')"
            ],
            "image/svg+xml": "<svg height=\"400\" version=\"1.1\" viewBox=\"0 0 400 400\" width=\"400\" xmlns=\"http://www.w3.org/2000/svg\" xmlns:xlink=\"http://www.w3.org/1999/xlink\"><defs><g class=\"white pawn\" id=\"white-pawn\"><path d=\"M22 9c-2.21 0-4 1.79-4 4 0 .89.29 1.71.78 2.38-1.95 1.12-3.28 3.21-3.28 5.62 0 2.03.94 3.84 2.41 5.03-3 1.06-7.41 5.55-7.41 13.47h23c0-7.92-4.41-12.41-7.41-13.47 1.47-1.19 2.41-3 2.41-5.03 0-2.41-1.33-4.5-3.28-5.62.49-.67.78-1.49.78-2.38 0-2.21-1.79-4-4-4z\" fill=\"#fff\" stroke=\"#000\" stroke-linecap=\"round\" stroke-width=\"1.5\" /></g><g class=\"black pawn\" id=\"black-pawn\"><path d=\"M22 9c-2.21 0-4 1.79-4 4 0 .89.29 1.71.78 2.38-1.95 1.12-3.28 3.21-3.28 5.62 0 2.03.94 3.84 2.41 5.03-3 1.06-7.41 5.55-7.41 13.47h23c0-7.92-4.41-12.41-7.41-13.47 1.47-1.19 2.41-3 2.41-5.03 0-2.41-1.33-4.5-3.28-5.62.49-.67.78-1.49.78-2.38 0-2.21-1.79-4-4-4z\" stroke=\"#000\" stroke-linecap=\"round\" stroke-width=\"1.5\" /></g></defs><rect class=\"square dark a1\" fill=\"#d18b47\" height=\"45\" stroke=\"none\" width=\"45\" x=\"20\" y=\"335\" /><use transform=\"translate(20, 335)\" xlink:href=\"#white-pawn\" /><rect class=\"square light b1\" fill=\"#ffce9e\" height=\"45\" stroke=\"none\" width=\"45\" x=\"65\" y=\"335\" /><rect class=\"square dark c1\" fill=\"#d18b47\" height=\"45\" stroke=\"none\" width=\"45\" x=\"110\" y=\"335\" /><use transform=\"translate(110, 335)\" xlink:href=\"#white-pawn\" /><rect class=\"square light d1\" fill=\"#ffce9e\" height=\"45\" stroke=\"none\" width=\"45\" x=\"155\" y=\"335\" /><rect class=\"square dark e1\" fill=\"#d18b47\" height=\"45\" stroke=\"none\" width=\"45\" x=\"200\" y=\"335\" /><use transform=\"translate(200, 335)\" xlink:href=\"#white-pawn\" /><rect class=\"square light f1\" fill=\"#ffce9e\" height=\"45\" stroke=\"none\" width=\"45\" x=\"245\" y=\"335\" /><rect class=\"square dark g1\" fill=\"#d18b47\" height=\"45\" stroke=\"none\" width=\"45\" x=\"290\" y=\"335\" /><use transform=\"translate(290, 335)\" xlink:href=\"#white-pawn\" /><rect class=\"square light h1\" fill=\"#ffce9e\" height=\"45\" stroke=\"none\" width=\"45\" x=\"335\" y=\"335\" /><rect class=\"square light a2\" fill=\"#ffce9e\" height=\"45\" stroke=\"none\" width=\"45\" x=\"20\" y=\"290\" /><rect class=\"square dark b2\" fill=\"#d18b47\" height=\"45\" stroke=\"none\" width=\"45\" x=\"65\" y=\"290\" /><use transform=\"translate(65, 290)\" xlink:href=\"#white-pawn\" /><rect class=\"square light c2\" fill=\"#ffce9e\" height=\"45\" stroke=\"none\" width=\"45\" x=\"110\" y=\"290\" /><rect class=\"square dark d2\" fill=\"#d18b47\" height=\"45\" stroke=\"none\" width=\"45\" x=\"155\" y=\"290\" /><use transform=\"translate(155, 290)\" xlink:href=\"#white-pawn\" /><rect class=\"square light e2\" fill=\"#ffce9e\" height=\"45\" stroke=\"none\" width=\"45\" x=\"200\" y=\"290\" /><rect class=\"square dark f2\" fill=\"#d18b47\" height=\"45\" stroke=\"none\" width=\"45\" x=\"245\" y=\"290\" /><use transform=\"translate(245, 290)\" xlink:href=\"#white-pawn\" /><rect class=\"square light g2\" fill=\"#ffce9e\" height=\"45\" stroke=\"none\" width=\"45\" x=\"290\" y=\"290\" /><rect class=\"square dark h2\" fill=\"#d18b47\" height=\"45\" stroke=\"none\" width=\"45\" x=\"335\" y=\"290\" /><use transform=\"translate(335, 290)\" xlink:href=\"#white-pawn\" /><rect class=\"square dark a3\" fill=\"#d18b47\" height=\"45\" stroke=\"none\" width=\"45\" x=\"20\" y=\"245\" /><use transform=\"translate(20, 245)\" xlink:href=\"#white-pawn\" /><rect class=\"square light b3\" fill=\"#ffce9e\" height=\"45\" stroke=\"none\" width=\"45\" x=\"65\" y=\"245\" /><rect class=\"square dark c3\" fill=\"#d18b47\" height=\"45\" stroke=\"none\" width=\"45\" x=\"110\" y=\"245\" /><use transform=\"translate(110, 245)\" xlink:href=\"#white-pawn\" /><rect class=\"square light d3\" fill=\"#ffce9e\" height=\"45\" stroke=\"none\" width=\"45\" x=\"155\" y=\"245\" /><use transform=\"translate(155, 245)\" xlink:href=\"#white-pawn\" /><rect class=\"square dark e3\" fill=\"#d18b47\" height=\"45\" stroke=\"none\" width=\"45\" x=\"200\" y=\"245\" /><use transform=\"translate(200, 245)\" xlink:href=\"#white-pawn\" /><rect class=\"square light f3\" fill=\"#ffce9e\" height=\"45\" stroke=\"none\" width=\"45\" x=\"245\" y=\"245\" /><rect class=\"square dark g3\" fill=\"#d18b47\" height=\"45\" stroke=\"none\" width=\"45\" x=\"290\" y=\"245\" /><use transform=\"translate(290, 245)\" xlink:href=\"#white-pawn\" /><rect class=\"square light h3\" fill=\"#ffce9e\" height=\"45\" stroke=\"none\" width=\"45\" x=\"335\" y=\"245\" /><rect class=\"square light a4\" fill=\"#ffce9e\" height=\"45\" stroke=\"none\" width=\"45\" x=\"20\" y=\"200\" /><use transform=\"translate(20, 200)\" xlink:href=\"#white-pawn\" /><rect class=\"square dark b4\" fill=\"#d18b47\" height=\"45\" stroke=\"none\" width=\"45\" x=\"65\" y=\"200\" /><rect class=\"square light c4\" fill=\"#ffce9e\" height=\"45\" stroke=\"none\" width=\"45\" x=\"110\" y=\"200\" /><use transform=\"translate(110, 200)\" xlink:href=\"#black-pawn\" /><rect class=\"square dark d4\" fill=\"#d18b47\" height=\"45\" stroke=\"none\" width=\"45\" x=\"155\" y=\"200\" /><rect class=\"square light e4\" fill=\"#ffce9e\" height=\"45\" stroke=\"none\" width=\"45\" x=\"200\" y=\"200\" /><use transform=\"translate(200, 200)\" xlink:href=\"#black-pawn\" /><rect class=\"square dark f4\" fill=\"#d18b47\" height=\"45\" stroke=\"none\" width=\"45\" x=\"245\" y=\"200\" /><rect class=\"square light g4\" fill=\"#ffce9e\" height=\"45\" stroke=\"none\" width=\"45\" x=\"290\" y=\"200\" /><use transform=\"translate(290, 200)\" xlink:href=\"#white-pawn\" /><rect class=\"square dark h4\" fill=\"#d18b47\" height=\"45\" stroke=\"none\" width=\"45\" x=\"335\" y=\"200\" /><rect class=\"square dark a5\" fill=\"#d18b47\" height=\"45\" stroke=\"none\" width=\"45\" x=\"20\" y=\"155\" /><rect class=\"square light b5\" fill=\"#ffce9e\" height=\"45\" stroke=\"none\" width=\"45\" x=\"65\" y=\"155\" /><rect class=\"square dark c5\" fill=\"#d18b47\" height=\"45\" stroke=\"none\" width=\"45\" x=\"110\" y=\"155\" /><rect class=\"square light d5\" fill=\"#ffce9e\" height=\"45\" stroke=\"none\" width=\"45\" x=\"155\" y=\"155\" /><rect class=\"square dark e5\" fill=\"#d18b47\" height=\"45\" stroke=\"none\" width=\"45\" x=\"200\" y=\"155\" /><rect class=\"square light f5\" fill=\"#ffce9e\" height=\"45\" stroke=\"none\" width=\"45\" x=\"245\" y=\"155\" /><rect class=\"square dark g5\" fill=\"#d18b47\" height=\"45\" stroke=\"none\" width=\"45\" x=\"290\" y=\"155\" /><rect class=\"square light h5\" fill=\"#ffce9e\" height=\"45\" stroke=\"none\" width=\"45\" x=\"335\" y=\"155\" /><rect class=\"square light a6\" fill=\"#ffce9e\" height=\"45\" stroke=\"none\" width=\"45\" x=\"20\" y=\"110\" /><rect class=\"square dark b6\" fill=\"#d18b47\" height=\"45\" stroke=\"none\" width=\"45\" x=\"65\" y=\"110\" /><use transform=\"translate(65, 110)\" xlink:href=\"#black-pawn\" /><rect class=\"square light c6\" fill=\"#ffce9e\" height=\"45\" stroke=\"none\" width=\"45\" x=\"110\" y=\"110\" /><use transform=\"translate(110, 110)\" xlink:href=\"#black-pawn\" /><rect class=\"square dark d6\" fill=\"#d18b47\" height=\"45\" stroke=\"none\" width=\"45\" x=\"155\" y=\"110\" /><use transform=\"translate(155, 110)\" xlink:href=\"#black-pawn\" /><rect class=\"square light e6\" fill=\"#ffce9e\" height=\"45\" stroke=\"none\" width=\"45\" x=\"200\" y=\"110\" /><use transform=\"translate(200, 110)\" xlink:href=\"#black-pawn\" /><rect class=\"square dark f6\" fill=\"#d18b47\" height=\"45\" stroke=\"none\" width=\"45\" x=\"245\" y=\"110\" /><use transform=\"translate(245, 110)\" xlink:href=\"#black-pawn\" /><rect class=\"square light g6\" fill=\"#ffce9e\" height=\"45\" stroke=\"none\" width=\"45\" x=\"290\" y=\"110\" /><use transform=\"translate(290, 110)\" xlink:href=\"#black-pawn\" /><rect class=\"square dark h6\" fill=\"#d18b47\" height=\"45\" stroke=\"none\" width=\"45\" x=\"335\" y=\"110\" /><use transform=\"translate(335, 110)\" xlink:href=\"#black-pawn\" /><rect class=\"square dark a7\" fill=\"#d18b47\" height=\"45\" stroke=\"none\" width=\"45\" x=\"20\" y=\"65\" /><use transform=\"translate(20, 65)\" xlink:href=\"#black-pawn\" /><rect class=\"square light b7\" fill=\"#ffce9e\" height=\"45\" stroke=\"none\" width=\"45\" x=\"65\" y=\"65\" /><rect class=\"square dark c7\" fill=\"#d18b47\" height=\"45\" stroke=\"none\" width=\"45\" x=\"110\" y=\"65\" /><use transform=\"translate(110, 65)\" xlink:href=\"#black-pawn\" /><rect class=\"square light d7\" fill=\"#ffce9e\" height=\"45\" stroke=\"none\" width=\"45\" x=\"155\" y=\"65\" /><rect class=\"square dark e7\" fill=\"#d18b47\" height=\"45\" stroke=\"none\" width=\"45\" x=\"200\" y=\"65\" /><use transform=\"translate(200, 65)\" xlink:href=\"#black-pawn\" /><rect class=\"square light f7\" fill=\"#ffce9e\" height=\"45\" stroke=\"none\" width=\"45\" x=\"245\" y=\"65\" /><rect class=\"square dark g7\" fill=\"#d18b47\" height=\"45\" stroke=\"none\" width=\"45\" x=\"290\" y=\"65\" /><use transform=\"translate(290, 65)\" xlink:href=\"#black-pawn\" /><rect class=\"square light h7\" fill=\"#ffce9e\" height=\"45\" stroke=\"none\" width=\"45\" x=\"335\" y=\"65\" /><rect class=\"square light a8\" fill=\"#ffce9e\" height=\"45\" stroke=\"none\" width=\"45\" x=\"20\" y=\"20\" /><rect class=\"square dark b8\" fill=\"#d18b47\" height=\"45\" stroke=\"none\" width=\"45\" x=\"65\" y=\"20\" /><use transform=\"translate(65, 20)\" xlink:href=\"#black-pawn\" /><rect class=\"square light c8\" fill=\"#ffce9e\" height=\"45\" stroke=\"none\" width=\"45\" x=\"110\" y=\"20\" /><rect class=\"square dark d8\" fill=\"#d18b47\" height=\"45\" stroke=\"none\" width=\"45\" x=\"155\" y=\"20\" /><use transform=\"translate(155, 20)\" xlink:href=\"#black-pawn\" /><rect class=\"square light e8\" fill=\"#ffce9e\" height=\"45\" stroke=\"none\" width=\"45\" x=\"200\" y=\"20\" /><rect class=\"square dark f8\" fill=\"#d18b47\" height=\"45\" stroke=\"none\" width=\"45\" x=\"245\" y=\"20\" /><use transform=\"translate(245, 20)\" xlink:href=\"#black-pawn\" /><rect class=\"square light g8\" fill=\"#ffce9e\" height=\"45\" stroke=\"none\" width=\"45\" x=\"290\" y=\"20\" /><rect class=\"square dark h8\" fill=\"#d18b47\" height=\"45\" stroke=\"none\" width=\"45\" x=\"335\" y=\"20\" /><use transform=\"translate(335, 20)\" xlink:href=\"#black-pawn\" /><text alignment-baseline=\"middle\" font-size=\"14\" text-anchor=\"middle\" x=\"42\" y=\"10\">a</text><text alignment-baseline=\"middle\" font-size=\"14\" text-anchor=\"middle\" x=\"42\" y=\"390\">a</text><text alignment-baseline=\"middle\" font-size=\"14\" text-anchor=\"middle\" x=\"87\" y=\"10\">b</text><text alignment-baseline=\"middle\" font-size=\"14\" text-anchor=\"middle\" x=\"87\" y=\"390\">b</text><text alignment-baseline=\"middle\" font-size=\"14\" text-anchor=\"middle\" x=\"132\" y=\"10\">c</text><text alignment-baseline=\"middle\" font-size=\"14\" text-anchor=\"middle\" x=\"132\" y=\"390\">c</text><text alignment-baseline=\"middle\" font-size=\"14\" text-anchor=\"middle\" x=\"177\" y=\"10\">d</text><text alignment-baseline=\"middle\" font-size=\"14\" text-anchor=\"middle\" x=\"177\" y=\"390\">d</text><text alignment-baseline=\"middle\" font-size=\"14\" text-anchor=\"middle\" x=\"222\" y=\"10\">e</text><text alignment-baseline=\"middle\" font-size=\"14\" text-anchor=\"middle\" x=\"222\" y=\"390\">e</text><text alignment-baseline=\"middle\" font-size=\"14\" text-anchor=\"middle\" x=\"267\" y=\"10\">f</text><text alignment-baseline=\"middle\" font-size=\"14\" text-anchor=\"middle\" x=\"267\" y=\"390\">f</text><text alignment-baseline=\"middle\" font-size=\"14\" text-anchor=\"middle\" x=\"312\" y=\"10\">g</text><text alignment-baseline=\"middle\" font-size=\"14\" text-anchor=\"middle\" x=\"312\" y=\"390\">g</text><text alignment-baseline=\"middle\" font-size=\"14\" text-anchor=\"middle\" x=\"357\" y=\"10\">h</text><text alignment-baseline=\"middle\" font-size=\"14\" text-anchor=\"middle\" x=\"357\" y=\"390\">h</text><text alignment-baseline=\"middle\" font-size=\"14\" text-anchor=\"middle\" x=\"10\" y=\"357\">1</text><text alignment-baseline=\"middle\" font-size=\"14\" text-anchor=\"middle\" x=\"390\" y=\"357\">1</text><text alignment-baseline=\"middle\" font-size=\"14\" text-anchor=\"middle\" x=\"10\" y=\"312\">2</text><text alignment-baseline=\"middle\" font-size=\"14\" text-anchor=\"middle\" x=\"390\" y=\"312\">2</text><text alignment-baseline=\"middle\" font-size=\"14\" text-anchor=\"middle\" x=\"10\" y=\"267\">3</text><text alignment-baseline=\"middle\" font-size=\"14\" text-anchor=\"middle\" x=\"390\" y=\"267\">3</text><text alignment-baseline=\"middle\" font-size=\"14\" text-anchor=\"middle\" x=\"10\" y=\"222\">4</text><text alignment-baseline=\"middle\" font-size=\"14\" text-anchor=\"middle\" x=\"390\" y=\"222\">4</text><text alignment-baseline=\"middle\" font-size=\"14\" text-anchor=\"middle\" x=\"10\" y=\"177\">5</text><text alignment-baseline=\"middle\" font-size=\"14\" text-anchor=\"middle\" x=\"390\" y=\"177\">5</text><text alignment-baseline=\"middle\" font-size=\"14\" text-anchor=\"middle\" x=\"10\" y=\"132\">6</text><text alignment-baseline=\"middle\" font-size=\"14\" text-anchor=\"middle\" x=\"390\" y=\"132\">6</text><text alignment-baseline=\"middle\" font-size=\"14\" text-anchor=\"middle\" x=\"10\" y=\"87\">7</text><text alignment-baseline=\"middle\" font-size=\"14\" text-anchor=\"middle\" x=\"390\" y=\"87\">7</text><text alignment-baseline=\"middle\" font-size=\"14\" text-anchor=\"middle\" x=\"10\" y=\"42\">8</text><text alignment-baseline=\"middle\" font-size=\"14\" text-anchor=\"middle\" x=\"390\" y=\"42\">8</text></svg>"
          },
          "metadata": {
            "tags": []
          },
          "execution_count": 45
        }
      ]
    },
    {
      "cell_type": "code",
      "metadata": {
        "id": "1bNFbCuVbebe",
        "colab_type": "code",
        "colab": {}
      },
      "source": [
        ""
      ],
      "execution_count": null,
      "outputs": []
    }
  ]
}