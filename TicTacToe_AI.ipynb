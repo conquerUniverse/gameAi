{
  "nbformat": 4,
  "nbformat_minor": 0,
  "metadata": {
    "colab": {
      "name": "TicTacToe-AI",
      "provenance": [],
      "collapsed_sections": []
    },
    "kernelspec": {
      "name": "python3",
      "display_name": "Python 3"
    }
  },
  "cells": [
    {
      "cell_type": "code",
      "metadata": {
        "id": "3RRmnDJRnPbJ",
        "colab_type": "code",
        "colab": {}
      },
      "source": [
        "import numpy as np\n"
      ],
      "execution_count": 2,
      "outputs": []
    },
    {
      "cell_type": "code",
      "metadata": {
        "id": "tVMO_7ocnVIW",
        "colab_type": "code",
        "colab": {}
      },
      "source": [
        "class TicTacToe:\n",
        "  \"\"\" \n",
        "  AI playing TicTacToe as your opponent \n",
        "  Solving it using MINMAX Algorithm\n",
        "  state 1 = X\n",
        "  state 2 = O\n",
        "  state 0 = empty block\n",
        "\n",
        "  \"\"\"\n",
        "  def __init__(self):\n",
        "    self.size = 3\n",
        "    self.state = np.zeros( (self.size,self.size),dtype = np.int8)\n",
        "\n",
        "  def isComplete(self):\n",
        "    \"\"\" Check wheather game is over and return the winner\n",
        "    0 if its Draw\n",
        "    -1 not complete \"\"\"\n",
        "    li = [1,2]\n",
        "    for i in li:\n",
        "      # horizontal check\n",
        "      for k in range(self.size):\n",
        "        res = [True if h == i else False for h in self.state[k,:] ]\n",
        "        if all(res):\n",
        "          return i\n",
        "      # vertical check\n",
        "      for k in range(self.size):\n",
        "        res = [True if h == i else False for h in self.state[:,k] ]\n",
        "        if all(res):\n",
        "          return i\n",
        "\n",
        "      for k in range(self.size):\n",
        "        res = [True if self.state[k][k] == i else False for k in range(self.size) ]\n",
        "        res1 = [True if self.state[k][self.size-k-1] == i else False for k in range(self.size) ]\n",
        "        if all(res) or all(res1):\n",
        "          return i\n",
        "        \n",
        "    flag = False\n",
        "    for k in self.state:\n",
        "      for j in i: \n",
        "        if j == 0:\n",
        "          flag = True\n",
        "          break\n",
        "\n",
        "    # Not complete\n",
        "    if flag == True:\n",
        "      return -1\n",
        "\n",
        "    # Draw\n",
        "    return 0\n",
        "\n",
        "\n",
        "\n",
        "  def printState(self):\n",
        "\n",
        "    \"\"\" Display the board state \"\"\"\n",
        "\n",
        "    for i in range(self.size):\n",
        "      for j in range(self.size): \n",
        "\n",
        "        self.state[i][j] = np.random.randint(1,3,1)\n",
        "        # print the board with random states\n",
        "        if self.state[i][j] == 0 :\n",
        "          curr = ' '\n",
        "        elif self.state[i][j] == 1:\n",
        "          curr = 'X'\n",
        "        else:\n",
        "          curr = 'O'  \n",
        "        if j != self.size-1:\n",
        "          print(f\"{curr} | \",end = '')\n",
        "        else:\n",
        "          print(f\"{curr}\")\n",
        "      if i != self.size-1:\n",
        "        print(\"--\"*self.size*2)\n",
        "                                                                                                                                     \n",
        "\n",
        "  \n",
        "  def minMax(self):\n",
        "    self.printState()\n",
        "    print(self.isComplete())\n",
        "    self.printState()\n",
        "\n",
        "  \n",
        "\n"
      ],
      "execution_count": 59,
      "outputs": []
    },
    {
      "cell_type": "code",
      "metadata": {
        "id": "h28z0q2ZpIZW",
        "colab_type": "code",
        "colab": {
          "base_uri": "https://localhost:8080/",
          "height": 204
        },
        "outputId": "8786d715-dbb1-47d1-98e8-4a062756dfbf"
      },
      "source": [
        "                                                                                                                                                                                                                                                                                                  t = TicTacToe()\n",
        "t.minMax()"
      ],
      "execution_count": 65,
      "outputs": [
        {
          "output_type": "stream",
          "text": [
            "O | X | X\n",
            "------------\n",
            "X | X | X\n",
            "------------\n",
            "X | O | O\n",
            "1\n",
            "X | X | O\n",
            "------------\n",
            "X | O | X\n",
            "------------\n",
            "O | X | O\n"
          ],
          "name": "stdout"
        }
      ]
    },
    {
      "cell_type": "code",
      "metadata": {
        "id": "IgxtgiV6pL6v",
        "colab_type": "code",
        "colab": {}
      },
      "source": [
        ""
      ],
      "execution_count": 29,
      "outputs": []
    }
  ]
}