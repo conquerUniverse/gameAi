{
  "nbformat": 4,
  "nbformat_minor": 0,
  "metadata": {
    "colab": {
      "name": "TicTacToe-AI",
      "provenance": [],
      "collapsed_sections": []
    },
    "kernelspec": {
      "name": "python3",
      "display_name": "Python 3"
    }
  },
  "cells": [
    {
      "cell_type": "code",
      "metadata": {
        "id": "3RRmnDJRnPbJ",
        "colab_type": "code",
        "colab": {}
      },
      "source": [
        "import numpy as np\n"
      ],
      "execution_count": 2,
      "outputs": []
    },
    {
      "cell_type": "code",
      "metadata": {
        "id": "tVMO_7ocnVIW",
        "colab_type": "code",
        "colab": {}
      },
      "source": [
        "class TicTacToe:\n",
        "  \"\"\" \n",
        "  AI playing TicTacToe as your opponent \n",
        "  Solving it using MINMAX Algorithm\n",
        "  state 1 = X\n",
        "  state 2 = O\n",
        "  state 0 = empty block\n",
        "\n",
        "  \"\"\"\n",
        "  def __init__(self):\n",
        "    self.size = 3\n",
        "    self.state = np.zeros(self.size**2,dtype = np.int8)\n",
        "\n",
        "  def printState(self):\n",
        "\n",
        "    \"\"\" Display the board state \"\"\"\n",
        "\n",
        "    for i in range(self.size):\n",
        "      for j in range(self.size): \n",
        "\n",
        "        #self.state[self.size*i+j] = np.random.randint(0,3,1)\n",
        "        # print the board with random states\n",
        "        if self.state[self.size*i+j] == 0 :\n",
        "          curr = ' '\n",
        "        elif self.state[self.size*i+j] == 1:\n",
        "          curr = 'X'\n",
        "        else:\n",
        "          curr = 'O'  \n",
        "        if j != self.size-1:\n",
        "          print(f\"{curr} | \",end = '')\n",
        "        else:\n",
        "          print(f\"{curr}\")\n",
        "      if i != self.size-1:\n",
        "        print(\"--\"*self.size*2)\n",
        "\n",
        "  def minMax(self):\n",
        "\n",
        "  \n",
        "\n"
      ],
      "execution_count": 25,
      "outputs": []
    },
    {
      "cell_type": "code",
      "metadata": {
        "id": "h28z0q2ZpIZW",
        "colab_type": "code",
        "colab": {
          "base_uri": "https://localhost:8080/",
          "height": 102
        },
        "outputId": "a4f19c46-e96e-4360-a615-fdbc851275dc"
      },
      "source": [
        "                                                                                                                                                                                                                                                                                                  t = TicTacToe()\n",
        "t.printState()"
      ],
      "execution_count": 26,
      "outputs": [
        {
          "output_type": "stream",
          "text": [
            "O | O |  \n",
            "------------\n",
            "X | O | O\n",
            "------------\n",
            "X | O | X\n"
          ],
          "name": "stdout"
        }
      ]
    },
    {
      "cell_type": "code",
      "metadata": {
        "id": "IgxtgiV6pL6v",
        "colab_type": "code",
        "colab": {}
      },
      "source": [
        ""
      ],
      "execution_count": null,
      "outputs": []
    }
  ]
}