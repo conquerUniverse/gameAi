{
 "cells": [
  {
   "cell_type": "code",
   "execution_count": null,
   "metadata": {},
   "outputs": [],
   "source": [
    "class MiniMax():    \n",
    "    \n",
    "    def __init__(game):\n",
    "        self.game = game\n",
    "        self.state = self.state\n",
    "        self.depth = game.depth\n",
    "        self.player = 1\n",
    "#         self.invalid_position = game.invalid_position\n",
    "        \n",
    "    def minimax():\n",
    "        \"\"\"\n",
    "        AI function that choice the best move\n",
    "        :param state: current state of the board\n",
    "        :param depth: node index in the tree (0 <= depth <= 9),\n",
    "        but never nine in this case (see iaturn() function)\n",
    "        :param player: an human or a computer\n",
    "        :return: a list with [the best row, best col, best score]\n",
    "        \"\"\"\n",
    "        \n",
    "        if self.game.player == 1:\n",
    "            best = [self.game.invalid_position, -infinity] \"\"\"define position\"\"\"\n",
    "        else:\n",
    "            best = [self.game.invalid_position, +infinity]\n",
    "\n",
    "        if self.depth == 0 or self.game.game_over(self.state):\n",
    "            score = self.game.evaluate(self.state)\n",
    "            return [self.game.invalid_position, score]\n",
    "\n",
    "        for cell in self.game.empty_cells(self.state):\n",
    "            x, y = cell[0], cell[1]\n",
    "            self.state[x][y] = self.player\n",
    "            score = self.minimax(self.state, self.depth - 1, -self.player)\n",
    "            self.state[x][y] = 0\n",
    "            score[0], score[1] = x, y\n",
    "\n",
    "            if self.player == 1:\n",
    "                if score[2] > best[2]:\n",
    "                    best = score  # max value\n",
    "            else:\n",
    "                if score[2] < best[2]:\n",
    "                    best = score  # min value\n",
    "\n",
    "        return best"
   ]
  }
 ],
 "metadata": {
  "kernelspec": {
   "display_name": "Python 3",
   "language": "python",
   "name": "python3"
  },
  "language_info": {
   "codemirror_mode": {
    "name": "ipython",
    "version": 3
   },
   "file_extension": ".py",
   "mimetype": "text/x-python",
   "name": "python",
   "nbconvert_exporter": "python",
   "pygments_lexer": "ipython3",
   "version": "3.7.6"
  }
 },
 "nbformat": 4,
 "nbformat_minor": 4
}
