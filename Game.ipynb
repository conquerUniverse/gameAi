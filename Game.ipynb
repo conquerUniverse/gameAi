{
  "nbformat": 4,
  "nbformat_minor": 0,
  "metadata": {
    "colab": {
      "name": "Game.ipynb",
      "provenance": [],
      "authorship_tag": "ABX9TyPcAB613Z7be5eY+wJy+8Th",
      "include_colab_link": true
    },
    "kernelspec": {
      "name": "python3",
      "display_name": "Python 3"
    }
  },
  "cells": [
    {
      "cell_type": "markdown",
      "metadata": {
        "id": "view-in-github",
        "colab_type": "text"
      },
      "source": [
        "<a href=\"https://colab.research.google.com/github/conquerUniverse/gameAi/blob/game-model/Game.ipynb\" target=\"_parent\"><img src=\"https://colab.research.google.com/assets/colab-badge.svg\" alt=\"Open In Colab\"/></a>"
      ]
    },
    {
      "cell_type": "code",
      "metadata": {
        "id": "dISdt1x1OSk-",
        "colab_type": "code",
        "colab": {}
      },
      "source": [
        "from abc import ABC, abstractmethod"
      ],
      "execution_count": 1,
      "outputs": []
    },
    {
      "cell_type": "code",
      "metadata": {
        "id": "pKq7uymuO18R",
        "colab_type": "code",
        "colab": {}
      },
      "source": [
        "class Game(ABC):\n",
        "\n",
        "  @abstractmethod\n",
        "  def play(self, youFirst):\n",
        "    pass\n",
        "  \n",
        "  @abstractmethod\n",
        "  def makeMove(self, state, player, move):\n",
        "    pass\n",
        "\n",
        "  @abstractmethod\n",
        "  def unMove(self, state, player, move):\n",
        "    pass\n",
        "\n",
        "\n",
        "  @abstractmethod\n",
        "  def isComplete(self, state):\n",
        "    pass\n",
        "\n",
        "  @abstractmethod\n",
        "  def printState(self, state):\n",
        "    pass\n",
        " "
      ],
      "execution_count": 2,
      "outputs": []
    }
  ]
}