{
 "cells": [
  {
   "cell_type": "code",
   "execution_count": 1,
   "metadata": {
    "scrolled": true
   },
   "outputs": [],
   "source": [
    "import numpy as np\n",
    "import chess"
   ]
  },
  {
   "cell_type": "code",
   "execution_count": 82,
   "metadata": {},
   "outputs": [],
   "source": [
    "class Checkers:\n",
    "    def __init__(self):\n",
    "        self.size = 8\n",
    "        self.turn = chess.BLACK\n",
    "        self.board = chess.Board(\"1p1p1p1p/p1p1p1p1/1p1p1p1p/8/8/P1P1P1P1/1P1P1P1P/P1P1P1P1 b KQkq - 0 4\")\n",
    "    \n",
    "    def isCellEmpty(self, i):\n",
    "        return self.board.piece_at(i) is None\n",
    "            \n",
    "#     def getBoard(self):\n",
    "#         return self.board\n",
    "    def ifIsPositionWithinBoundary(self, x, y):\n",
    "        return x>=0 and y>=0 and x<self.size and y<self.size\n",
    "    \n",
    "    def bottomRight(self, pos):\n",
    "        x, y = pos//self.size-1, pos%self.size+1\n",
    "        return x*self.size+y if self.ifIsPositionWithinBoundary(x,y) else None \n",
    "    \n",
    "    def bottomLeft(self, pos):\n",
    "        x, y = pos//self.size-1, pos%self.size-1\n",
    "        return x*self.size+y if self.ifIsPositionWithinBoundary(x,y) else None \n",
    "    \n",
    "    def topRight(self, pos):\n",
    "        x, y = pos//self.size+1, pos%self.size+1\n",
    "        return x*self.size+y if self.ifIsPositionWithinBoundary(x,y) else None \n",
    "        \n",
    "    def topLeft(self, pos):\n",
    "        x, y = pos//self.size+1, pos%self.size-1\n",
    "        return x*self.size+y if self.ifIsPositionWithinBoundary(x,y) else None \n",
    "        \n",
    "    def validNeighbors(self,pos):\n",
    "        neighbours = []\n",
    "        pass\n",
    "        \n",
    "        \n",
    "    def canCapture(self, pos):\n",
    "        pass\n",
    "#         bottemLeft = self.bottomLeft(pos)\n",
    "#         bottomRight=  \n",
    "    def getCaptureMoves(self, turn):\n",
    "        moves = {}\n",
    "        allPieces = self.board.piece_map().keys()\n",
    "        for positions in allPieces:\n",
    "            if board.piece_at(positions).color() == turn:\n",
    "                if self.canCapture(positions):\n",
    "                    pos = self.capturePositions(positions)\n",
    "            \n",
    "        \n",
    "    \n",
    "    def isValidMove(self, i, j, turn):\n",
    "        pass        \n",
    "    \n",
    "    def makeMove(self,i,j):\n",
    "        if(self.isValidMove(i,j)):\n",
    "            piece = board.remove_piece_at(i)\n",
    "            board.set_piece_at(j, piece)\n",
    "    \n",
    "#     def minimax()\n",
    "        "
   ]
  },
  {
   "cell_type": "code",
   "execution_count": 85,
   "metadata": {
    "scrolled": true
   },
   "outputs": [
    {
     "name": "stderr",
     "output_type": "stream",
     "text": [
      "...........\n",
      "----------------------------------------------------------------------\n",
      "Ran 11 tests in 0.026s\n",
      "\n",
      "OK\n"
     ]
    }
   ],
   "source": [
    "import unittest\n",
    "\n",
    "class UnitTest(unittest.TestCase):\n",
    "    \n",
    "    checkers = Checkers()\n",
    "        \n",
    "    \n",
    "    def test_initialize_board_correct(self):\n",
    "        expected_board = chess.Board(\"1p1p1p1p/p1p1p1p1/1p1p1p1p/8/8/P1P1P1P1/1P1P1P1P/P1P1P1P1 b KQkq - 0 4\")\n",
    "        self.assertEqual(expected_board, self.checkers.board)\n",
    "    \n",
    "    def test_initialize_board_incorrect(self):\n",
    "        expected_board = chess.Board(\"p1p1ppp1/1p1p1p1p/p1p1p1p1/8/8/1P1P1P1P/P1P1P1P1/1P1P1P1P b KQkq - 0 4\")\n",
    "        self.assertNotEqual(expected_board, self.checkers.board)\n",
    "    \n",
    "    def test_isEmpty(self):\n",
    "        self.assertTrue(self.checkers.isCellEmpty(27))\n",
    "        self.assertFalse(self.checkers.isCellEmpty(9))\n",
    "    \n",
    "    def test_isValidBottomRight(self):\n",
    "        self.assertEqual(self.checkers.bottomRight(9),2)\n",
    "    def test_isValidBottomLeft(self):\n",
    "        self.assertEqual(self.checkers.bottomLeft(9),0)\n",
    "    def test_isValidTopRight(self):\n",
    "        self.assertEqual(self.checkers.topRight(9),18)\n",
    "    def test_isValidTopLeft(self):\n",
    "        self.assertEqual(self.checkers.topLeft(9),16)\n",
    "    \n",
    "    def test_isInvalidBottomRight(self):\n",
    "        self.assertEqual(self.checkers.bottomRight(7),None)\n",
    "    def test_isInvalidBottomLeft(self):\n",
    "        self.assertEqual(self.checkers.bottomLeft(7),None)\n",
    "    def test_isInvalidTopRight(self):\n",
    "        self.assertEqual(self.checkers.topRight(58),None)\n",
    "    def test_isInvalidTopLeft(self):\n",
    "        self.assertEqual(self.checkers.topLeft(58),None)\n",
    "    \n",
    "        \n",
    "if __name__ == '__main__':\n",
    "    unittest.main(argv=['first-arg-is-ignored'], exit=False)  "
   ]
  },
  {
   "cell_type": "code",
   "execution_count": 64,
   "metadata": {},
   "outputs": [
    {
     "data": {
      "text/plain": [
       "'.'"
      ]
     },
     "execution_count": 64,
     "metadata": {},
     "output_type": "execute_result"
    }
   ],
   "source": [
    "checkers = Checkers()\n",
    "# board = checkers.display_board()\n",
    "myboard = checkers.getCaptureMoves(0)"
   ]
  },
  {
   "cell_type": "code",
   "execution_count": 24,
   "metadata": {},
   "outputs": [
    {
     "data": {
      "text/plain": [
       "False"
      ]
     },
     "execution_count": 24,
     "metadata": {},
     "output_type": "execute_result"
    }
   ],
   "source": [
    "board.piece_at(8) is None"
   ]
  },
  {
   "cell_type": "raw",
   "metadata": {},
   "source": [
    "board"
   ]
  },
  {
   "cell_type": "code",
   "execution_count": 67,
   "metadata": {
    "scrolled": true
   },
   "outputs": [
    {
     "data": {
      "text/plain": [
       "{62: Piece.from_symbol('p'),\n",
       " 60: Piece.from_symbol('p'),\n",
       " 58: Piece.from_symbol('p'),\n",
       " 56: Piece.from_symbol('p'),\n",
       " 55: Piece.from_symbol('p'),\n",
       " 53: Piece.from_symbol('p'),\n",
       " 51: Piece.from_symbol('p'),\n",
       " 49: Piece.from_symbol('p'),\n",
       " 46: Piece.from_symbol('p'),\n",
       " 44: Piece.from_symbol('p'),\n",
       " 42: Piece.from_symbol('p'),\n",
       " 40: Piece.from_symbol('p'),\n",
       " 23: Piece.from_symbol('P'),\n",
       " 21: Piece.from_symbol('P'),\n",
       " 19: Piece.from_symbol('P'),\n",
       " 17: Piece.from_symbol('P'),\n",
       " 14: Piece.from_symbol('P'),\n",
       " 12: Piece.from_symbol('P'),\n",
       " 10: Piece.from_symbol('P'),\n",
       " 8: Piece.from_symbol('P'),\n",
       " 7: Piece.from_symbol('P'),\n",
       " 5: Piece.from_symbol('P'),\n",
       " 3: Piece.from_symbol('P'),\n",
       " 1: Piece.from_symbol('P')}"
      ]
     },
     "execution_count": 67,
     "metadata": {},
     "output_type": "execute_result"
    }
   ],
   "source": [
    "board."
   ]
  },
  {
   "cell_type": "code",
   "execution_count": null,
   "metadata": {},
   "outputs": [],
   "source": []
  }
 ],
 "metadata": {
  "kernelspec": {
   "display_name": "Python 3",
   "language": "python",
   "name": "python3"
  },
  "language_info": {
   "codemirror_mode": {
    "name": "ipython",
    "version": 3
   },
   "file_extension": ".py",
   "mimetype": "text/x-python",
   "name": "python",
   "nbconvert_exporter": "python",
   "pygments_lexer": "ipython3",
   "version": "3.7.6"
  }
 },
 "nbformat": 4,
 "nbformat_minor": 4
}
