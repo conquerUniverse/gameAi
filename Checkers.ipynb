{
 "cells": [
  {
   "cell_type": "code",
   "execution_count": 6,
   "metadata": {
    "scrolled": true
   },
   "outputs": [],
   "source": [
    "import numpy as np\n",
    "import chess"
   ]
  },
  {
   "cell_type": "code",
   "execution_count": 82,
   "metadata": {},
   "outputs": [],
   "source": [
    "class Checkers:\n",
    "    def __init__(self):\n",
    "        self.size = 8\n",
    "        self.turn = chess.BLACK\n",
    "        self.board = chess.Board(\"1p1p1p1p/p1p1p1p1/1p1p1p1p/8/8/P1P1P1P1/1P1P1P1P/P1P1P1P1 b KQkq - 0 4\")\n",
    "    \n",
    "    def isCellEmpty(self, i):\n",
    "        return self.board.piece_at(i) is None\n",
    "            \n",
    "#     def getBoard(self):\n",
    "#         return self.board\n",
    "    def ifIsPositionWithinBoundary(self, x, y):\n",
    "        return x>=0 and y>=0 and x<self.size and y<self.size\n",
    "    \n",
    "    def bottomRight(self, pos):\n",
    "        x, y = pos//self.size-1, pos%self.size+1\n",
    "        return x*self.size+y if self.ifIsPositionWithinBoundary(x,y) else None \n",
    "    \n",
    "    def bottomLeft(self, pos):\n",
    "        x, y = pos//self.size-1, pos%self.size-1\n",
    "        return x*self.size+y if self.ifIsPositionWithinBoundary(x,y) else None \n",
    "    \n",
    "    def topRight(self, pos):\n",
    "        x, y = pos//self.size+1, pos%self.size+1\n",
    "        return x*self.size+y if self.ifIsPositionWithinBoundary(x,y) else None \n",
    "        \n",
    "    def topLeft(self, pos):\n",
    "        x, y = pos//self.size+1, pos%self.size-1\n",
    "        return x*self.size+y if self.ifIsPositionWithinBoundary(x,y) else None\n",
    "    \n",
    "    def pieceAtPosition(self,pos):\n",
    "        return str(self.board.piece_at(pos))\n",
    "        \n",
    "    def validNeighbors(self,pos):\n",
    "        tl = self.topLeft(pos)\n",
    "        tr = self.topRight(pos)\n",
    "        bl = self.bottomLeft(pos)\n",
    "        br = self.bottomRight(pos)\n",
    "        valid = []\n",
    "        if self.pieceAtPosition(pos) == 'P':\n",
    "            if tl is not none:\n",
    "                valid.append(tl)\n",
    "            if tr is not none:\n",
    "                valid.append(tr)\n",
    "                \n",
    "        if self.pieceAtPosition(pos) == 'p':\n",
    "            if bl is not none:\n",
    "                valid.append(bl)\n",
    "            if br is not none:\n",
    "                valid.append(br)\n",
    "                \n",
    "        if self.pieceAtPosition(pos) in 'Kk':\n",
    "            if tl is not none:\n",
    "                valid.append(tl)\n",
    "            if tr is not none:\n",
    "                valid.append(tr)\n",
    "            if bl is not none:\n",
    "                valid.append(bl)\n",
    "            if br is not none:\n",
    "                valid.append(br)\n",
    "        \n",
    "        return valid\n",
    "    \n",
    "        \n",
    "    def canCapture(self, pos):\n",
    "        capture = []\n",
    "        if all(self.validNeighbors(pos)) is None:\n",
    "            return capture\n",
    "        pass\n",
    " \n",
    "    def getCaptureMoves(self, turn):\n",
    "        moves = {}\n",
    "        allPieces = self.board.piece_map().keys()\n",
    "        for positions in allPieces:\n",
    "            if board.piece_at(positions).color() == turn:\n",
    "                if self.canCapture(positions):\n",
    "                    pos = self.capturePositions(positions)\n",
    "            \n",
    "        \n",
    "    \n",
    "    def isValidMove(self, i, j, turn):\n",
    "        pass        \n",
    "    \n",
    "    def makeMove(self,i,j):\n",
    "        if(self.isValidMove(i,j)):\n",
    "            piece = board.remove_piece_at(i)\n",
    "            board.set_piece_at(j, piece)\n",
    "    \n",
    "#     def minimax()\n",
    "        "
   ]
  },
  {
   "cell_type": "code",
   "execution_count": 86,
   "metadata": {
    "scrolled": true
   },
   "outputs": [
    {
     "name": "stderr",
     "output_type": "stream",
     "text": [
      "...........\n",
      "----------------------------------------------------------------------\n",
      "Ran 11 tests in 0.034s\n",
      "\n",
      "OK\n"
     ]
    }
   ],
   "source": [
    "import unittest\n",
    "\n",
    "class UnitTest(unittest.TestCase):\n",
    "    \n",
    "    def setUp(self):\n",
    "        self.checkers = Checkers()\n",
    "        \n",
    "    \n",
    "    def test_initialize_board_correct(self):\n",
    "        expected_board = chess.Board(\"1p1p1p1p/p1p1p1p1/1p1p1p1p/8/8/P1P1P1P1/1P1P1P1P/P1P1P1P1 b KQkq - 0 4\")\n",
    "        self.assertEqual(expected_board, self.checkers.board)\n",
    "    \n",
    "    def test_initialize_board_incorrect(self):\n",
    "        expected_board = chess.Board(\"p1p1ppp1/1p1p1p1p/p1p1p1p1/8/8/1P1P1P1P/P1P1P1P1/1P1P1P1P b KQkq - 0 4\")\n",
    "        self.assertNotEqual(expected_board, self.checkers.board)\n",
    "    \n",
    "    def test_isEmpty(self):\n",
    "        self.assertTrue(self.checkers.isCellEmpty(27))\n",
    "        self.assertFalse(self.checkers.isCellEmpty(9))\n",
    "    \n",
    "    def test_isValidBottomRight(self):\n",
    "        self.assertEqual(self.checkers.bottomRight(9),2)\n",
    "    def test_isValidBottomLeft(self):\n",
    "        self.assertEqual(self.checkers.bottomLeft(9),0)\n",
    "    def test_isValidTopRight(self):\n",
    "        self.assertEqual(self.checkers.topRight(9),18)\n",
    "    def test_isValidTopLeft(self):\n",
    "        self.assertEqual(self.checkers.topLeft(9),16)\n",
    "    \n",
    "    def test_isInvalidBottomRight(self):\n",
    "        self.assertEqual(self.checkers.bottomRight(7),None)\n",
    "    def test_isInvalidBottomLeft(self):\n",
    "        self.assertEqual(self.checkers.bottomLeft(7),None)\n",
    "    def test_isInvalidTopRight(self):\n",
    "        self.assertEqual(self.checkers.topRight(58),None)\n",
    "    def test_isInvalidTopLeft(self):\n",
    "        self.assertEqual(self.checkers.topLeft(58),None)\n",
    "    \n",
    "        \n",
    "if __name__ == '__main__':\n",
    "    unittest.main(argv=['first-arg-is-ignored'], exit=False)  "
   ]
  },
  {
   "cell_type": "code",
   "execution_count": 64,
   "metadata": {},
   "outputs": [
    {
     "data": {
      "text/plain": [
       "'.'"
      ]
     },
     "execution_count": 64,
     "metadata": {},
     "output_type": "execute_result"
    }
   ],
   "source": [
    "checkers = Checkers()\n",
    "# board = checkers.display_board()\n",
    "myboard = checkers.getCaptureMoves(0)"
   ]
  },
  {
   "cell_type": "code",
   "execution_count": 11,
   "metadata": {},
   "outputs": [
    {
     "data": {
      "text/plain": [
       "'P'"
      ]
     },
     "execution_count": 11,
     "metadata": {},
     "output_type": "execute_result"
    }
   ],
   "source": [
    "str(board.piece_at(8))"
   ]
  },
  {
   "cell_type": "raw",
   "metadata": {},
   "source": [
    "board = chess.Board()"
   ]
  },
  {
   "cell_type": "code",
   "execution_count": 8,
   "metadata": {
    "scrolled": true
   },
   "outputs": [],
   "source": [
    "board = chess.Board()"
   ]
  },
  {
   "cell_type": "code",
   "execution_count": null,
   "metadata": {},
   "outputs": [],
   "source": [
    "board.piece_map"
   ]
  }
 ],
 "metadata": {
  "kernelspec": {
   "display_name": "Python 3",
   "language": "python",
   "name": "python3"
  },
  "language_info": {
   "codemirror_mode": {
    "name": "ipython",
    "version": 3
   },
   "file_extension": ".py",
   "mimetype": "text/x-python",
   "name": "python",
   "nbconvert_exporter": "python",
   "pygments_lexer": "ipython3",
   "version": "3.7.6"
  }
 },
 "nbformat": 4,
 "nbformat_minor": 4
}
