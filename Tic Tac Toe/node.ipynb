{
 "cells": [
  {
   "cell_type": "code",
   "execution_count": 1,
   "metadata": {},
   "outputs": [],
   "source": [
    "import numpy as np\n",
    "import time\n",
    "from IPython.display import clear_output\n",
    "import unittest"
   ]
  },
  {
   "cell_type": "code",
   "execution_count": 2,
   "metadata": {},
   "outputs": [],
   "source": [
    "class Node(object):\n",
    "    \"\"\"\n",
    "    Monte Carlo Tree Search Node\n",
    "    \"\"\"\n",
    "    def __init__(self,env,turn):\n",
    "\n",
    "        # Attrib\n",
    "        self.win = 0 #reward\n",
    "        self.visited = 0\n",
    "        self.turn = turn\n",
    "        self.isRoot = False\n",
    "        self.value = float(\"inf\")\n",
    "        self.isAllChildVisitedOnce = False # node fully expanded ? when all uct is not inf\n",
    "        self.isTerminal = False # is terminal node\n",
    "        self.childNodesExtracted = False\n",
    "        self.limit = 1\n",
    "        self.isLeafNode = True\n",
    "\n",
    "        self.backPropDoneOnce = False\n",
    "        self.winUpdated = False\n",
    "\n",
    "        self.move = None\n",
    "        self.parent = None # brackprop\n",
    "        self.childNodes = [] \n",
    "\n",
    "        self.state = None # state\n",
    "        self.env = env \n",
    "        self.ifcount = 0\n",
    "\n",
    "    def findChilds(self):\n",
    "        # find all childs and add them\n",
    "        self.childNodesExtracted = True\n",
    "\n",
    "        if self.isTerminal:\n",
    "            return self\n",
    "        moves = self.env.getMoves(self.state, self.turn)\n",
    "\n",
    "        for i in moves:\n",
    "            temp_state = self.env.executeMove(self.state.copy(),i, self.turn)\n",
    "            n =  Node(self.env,not self.turn)\n",
    "            self.addChild(n,i,temp_state)\n",
    "\n",
    "\n",
    "\n",
    "    def addChild(self,obj,move,temp_state = None):\n",
    "        obj.parent = self\n",
    "        obj.state = temp_state\n",
    "        obj.move = move\n",
    "        obj.isTerminal = self.env.isComplete(temp_state) != -1\n",
    "        self.isExpanded = True \n",
    "        self.childNodes.append(obj)\n",
    "\n",
    "\n",
    "    def print(self):\n",
    "        self.env.printState(self.state)\n",
    "        print(\"----\")\n",
    "\n",
    "    # env \n",
    "    # -> printState\n",
    "    # -> executeMove\n",
    "    # -> getMoves"
   ]
  },
  {
   "cell_type": "code",
   "execution_count": null,
   "metadata": {},
   "outputs": [],
   "source": []
  }
 ],
 "metadata": {
  "kernelspec": {
   "display_name": "Python 3",
   "language": "python",
   "name": "python3"
  },
  "language_info": {
   "codemirror_mode": {
    "name": "ipython",
    "version": 3
   },
   "file_extension": ".py",
   "mimetype": "text/x-python",
   "name": "python",
   "nbconvert_exporter": "python",
   "pygments_lexer": "ipython3",
   "version": "3.7.6"
  }
 },
 "nbformat": 4,
 "nbformat_minor": 4
}
