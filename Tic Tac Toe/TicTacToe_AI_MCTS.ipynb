{
 "cells": [
  {
   "cell_type": "markdown",
   "metadata": {
    "colab_type": "text",
    "id": "Ur2TSlk20uAR"
   },
   "source": [
    "# Monte Carlo Tree Search\n",
    "\n",
    "## Explanation\n",
    "- https://www.analyticsvidhya.com/blog/2019/01/monte-carlo-tree-search-introduction-algorithm-deepmind-alphago/\n",
    "- https://github.com/hayoung-kim/mcts-tic-tac-toe\n",
    "- https://nestedsoftware.com/2019/08/07/tic-tac-toe-with-mcts-2h5k.152104.html\n"
   ]
  },
  {
   "cell_type": "code",
   "execution_count": 1,
   "metadata": {
    "colab": {},
    "colab_type": "code",
    "executionInfo": {
     "elapsed": 5938,
     "status": "ok",
     "timestamp": 1595439929434,
     "user": {
      "displayName": "Pankaj Pundir",
      "photoUrl": "",
      "userId": "12951077964743328573"
     },
     "user_tz": -330
    },
    "id": "3RRmnDJRnPbJ"
   },
   "outputs": [],
   "source": [
    "import numpy as np\n",
    "import time\n",
    "from IPython.display import clear_output\n",
    "import unittest"
   ]
  },
  {
   "cell_type": "code",
   "execution_count": 2,
   "metadata": {
    "colab": {},
    "colab_type": "code",
    "executionInfo": {
     "elapsed": 1082,
     "status": "ok",
     "timestamp": 1595442107901,
     "user": {
      "displayName": "Pankaj Pundir",
      "photoUrl": "",
      "userId": "12951077964743328573"
     },
     "user_tz": -330
    },
    "id": "CXpXnn_odo4q"
   },
   "outputs": [],
   "source": [
    "class Node(object):\n",
    "    \"\"\"\n",
    "    Monte Carlo Tree Search Node\n",
    "    \"\"\"\n",
    "    def __init__(self,env,turn):\n",
    "\n",
    "        # Attrib\n",
    "        self.win = 0 #reward\n",
    "        self.visited = 0\n",
    "        self.turn = turn\n",
    "        self.isRoot = False\n",
    "        self.value = float(\"inf\")\n",
    "        self.isAllChildVisitedOnce = False # node fully expanded ? when all uct is not inf\n",
    "        self.isTerminal = False # is terminal node\n",
    "        self.childNodesExtracted = False\n",
    "        self.limit = 1\n",
    "        self.isLeafNode = True\n",
    "\n",
    "        self.backPropDoneOnce = False\n",
    "        self.winUpdated = False\n",
    "\n",
    "        self.move = None\n",
    "        self.parent = None # brackprop\n",
    "        self.childNodes = [] \n",
    "\n",
    "        self.state = None # state\n",
    "        self.env = env \n",
    "        self.ifcount = 0\n",
    "\n",
    "    def findChilds(self):\n",
    "        # find all childs and add them\n",
    "        self.childNodesExtracted = True\n",
    "\n",
    "        if self.isTerminal:\n",
    "            return self\n",
    "        moves = self.env.getMoves(self.state, self.turn)\n",
    "\n",
    "        for i in moves:\n",
    "            temp_state = self.env.executeMove(self.state.copy(),i, self.turn)\n",
    "            n =  Node(self.env,not self.turn)\n",
    "            self.addChild(n,i,temp_state)\n",
    "\n",
    "\n",
    "\n",
    "    def addChild(self,obj,move,temp_state = None):\n",
    "        obj.parent = self\n",
    "        obj.state = temp_state\n",
    "        obj.move = move\n",
    "        obj.isTerminal = self.env.isComplete(temp_state) != -1\n",
    "        self.isExpanded = True \n",
    "        self.childNodes.append(obj)\n",
    "\n",
    "\n",
    "    def print(self):\n",
    "        self.env.printState(self.state)\n",
    "        print(\"----\")\n",
    "\n",
    "    # env \n",
    "    # -> printState\n",
    "    # -> executeMove\n",
    "    # -> getMoves"
   ]
  },
  {
   "cell_type": "code",
   "execution_count": 3,
   "metadata": {
    "colab": {
     "base_uri": "https://localhost:8080/",
     "height": 34
    },
    "colab_type": "code",
    "executionInfo": {
     "elapsed": 1196,
     "status": "ok",
     "timestamp": 1595442108982,
     "user": {
      "displayName": "Pankaj Pundir",
      "photoUrl": "",
      "userId": "12951077964743328573"
     },
     "user_tz": -330
    },
    "id": "Dwue_Vj2qNzR",
    "outputId": "ac4b9850-7ca0-4075-d011-074e0f6d7e4b"
   },
   "outputs": [
    {
     "name": "stdout",
     "output_type": "stream",
     "text": [
      "\u001b[92m hello\u001b[00m\n"
     ]
    }
   ],
   "source": [
    "def prRed(skk): print(\"\\033[91m {}\\033[00m\" .format(skk)) \n",
    "def prGreen(skk): print(\"\\033[92m {}\\033[00m\" .format(skk)) \n",
    "prGreen(\"hello\")"
   ]
  },
  {
   "cell_type": "code",
   "execution_count": 22,
   "metadata": {
    "colab": {},
    "colab_type": "code",
    "executionInfo": {
     "elapsed": 2447,
     "status": "ok",
     "timestamp": 1595443115546,
     "user": {
      "displayName": "Pankaj Pundir",
      "photoUrl": "",
      "userId": "12951077964743328573"
     },
     "user_tz": -330
    },
    "id": "tqQkHtHEbltQ"
   },
   "outputs": [],
   "source": [
    "class Mcts:\n",
    "    def __init__(self,env,turn,root,debug =False):\n",
    "        self.MaxTime = 3\n",
    "        self.iniTime = time.time()\n",
    "        self.env = env\n",
    "        self.turn = turn\n",
    "        self.root = root\n",
    "        self.maxVal = float('inf')\n",
    "        self.debug = debug\n",
    "\n",
    "        # iteration resouce\n",
    "        self.maxIter = 1000\n",
    "        self.iter = 0\n",
    "\n",
    "    \n",
    "    def resourceAvailable(self,UseTimeResource = True):\n",
    "        # within the time limit\n",
    "\n",
    "        # with iterations\n",
    "        if  not UseTimeResource:\n",
    "            if self.iter < self.maxIter:\n",
    "                self.iter += 1\n",
    "                return True\n",
    "            return False\n",
    "\n",
    "\n",
    "        if time.time() - self.iniTime  <= self.MaxTime:\n",
    "            return True\n",
    "        return False\n",
    "\n",
    "    def best(self,node):\n",
    "        \"\"\" UCB selection \"\"\"\n",
    "        if node.isTerminal:\n",
    "            return node\n",
    "\n",
    "        past = -100\n",
    "        obj = node\n",
    "        \n",
    "        for i in node.childNodes: \n",
    "            val = self.nodeValue(i)\n",
    "            if val > past: # maxi.\n",
    "                obj = i\n",
    "                past = val\n",
    "        return obj\n",
    "\n",
    "\n",
    "    def selection(self,node):\n",
    "        \"\"\"Return the leaf node To be expanded \"\"\"\n",
    "\n",
    "        while not node.isTerminal and not node.isLeafNode :\n",
    "            node = self.best(node) # higher UCT value\n",
    "            # node.print()\n",
    "\n",
    "        if node.isLeafNode:  \n",
    "            node.findChilds()\n",
    "            node.isLeafNode = False\n",
    "\n",
    "        return self.best(node)\n",
    "\n",
    "\n",
    "\n",
    "    def rollout(self,node):\n",
    "        # simulate the game with env\n",
    "\n",
    "        temp_turn = node.turn\n",
    "        temp_state = node.state.copy()\n",
    "        # invert_reward = True\n",
    "\n",
    "        while self.env.isComplete(temp_state) == -1: # unless the Game is complete\n",
    "\n",
    "            moves = self.env.getMoves(temp_state,temp_turn) # gives random moves\n",
    "            temp_state = self.env.executeMove(temp_state.copy(), moves[0], temp_turn)\n",
    "            temp_turn = not temp_turn\n",
    "            # invert_reward = not invert_reward\n",
    "\n",
    "\n",
    "        winner = self.env.isComplete(temp_state) # 0, 1,2\n",
    "\n",
    "        if node.turn == True:\n",
    "            wint = 2\n",
    "        else:\n",
    "            wint = 1\n",
    "\n",
    "        if winner == 0:\n",
    "            return 1 #draw\n",
    "        elif wint == winner:\n",
    "            return 1  # favourable condition\n",
    "        return 0\n",
    "#         if winner == 0:\n",
    "#             return 1 #draw\n",
    "#         elif node.turn is self.root.turn:\n",
    "#             return 1  # favourable condition\n",
    "#         return -1\n",
    "    \n",
    "\n",
    "    def nodeValue(self,node):\n",
    "        # UCB funciton\n",
    "\n",
    "        win = node.win\n",
    "        nodeVisit = node.visited\n",
    "        rootVisit = self.root.visited\n",
    "\n",
    "        if nodeVisit==0:\n",
    "            return 10000\n",
    "        return win/nodeVisit +  np.sqrt(2*np.log(rootVisit)/nodeVisit)\n",
    "\n",
    "    def backpropagate(self,node,result):\n",
    "        # update the values to the root node\n",
    "        assert node!=self.root\n",
    "\n",
    "        while node != None :\n",
    "#             result = 1-result\n",
    "#             if node.turn is self.root.turn:\n",
    "#                 node.win += 1-result\n",
    "#             else:\n",
    "#                 node.win += result\n",
    "            result =1-result\n",
    "            node.win += result\n",
    "            node.visited += 1\n",
    "            \n",
    "\n",
    "            # for simulation\n",
    "            node.winUpdated = True\n",
    "            node = node.parent\n",
    "        \n",
    "\n",
    "    def bestMove(self,node):\n",
    "        # find the best move with UCT\n",
    "        # assert node.childNodesExtracted == True\n",
    "\n",
    "        past = -self.maxVal\n",
    "        obj = None\n",
    "        assert node.isLeafNode == False\n",
    "\n",
    "        for i in node.childNodes:\n",
    "            if i.win >= past: # max\n",
    "                obj = i\n",
    "                past = i.win\n",
    "            \n",
    "        return obj.move\n",
    "\n",
    "\n",
    "    def execute(self,UseTimeResource = True):\n",
    "        \"\"\" the core of Mcts \"\"\"\n",
    "\n",
    "        self.iniTime = time.time() # restart time \n",
    "\n",
    "        while self.resourceAvailable( UseTimeResource):\n",
    "            node = self.selection(self.root) # find the leaf nodes to be expanded\n",
    "            simulation_result = self.rollout(node)\n",
    "            self.backpropagate(node,simulation_result)\n",
    "\n",
    "            # simulation display root node\n",
    "            if self.debug == True:\n",
    "                time.sleep(0.5)\n",
    "                clear_output(True)\n",
    "                for j in self.root.childNodes:\n",
    "                    j.print()\n",
    "                    print(j.win,j.visited)\n",
    "                    if j.winUpdated == True:\n",
    "                        prGreen(self.nodeValue(j))\n",
    "                        j.winUpdated = False\n",
    "                    else:\n",
    "                        print(self.nodeValue(j))\n",
    "\n",
    "\n",
    "        return self.bestMove(self.root)\n",
    "    \n",
    "    # bestMove ??"
   ]
  },
  {
   "cell_type": "code",
   "execution_count": 27,
   "metadata": {
    "colab": {},
    "colab_type": "code",
    "executionInfo": {
     "elapsed": 885,
     "status": "ok",
     "timestamp": 1595443232741,
     "user": {
      "displayName": "Pankaj Pundir",
      "photoUrl": "",
      "userId": "12951077964743328573"
     },
     "user_tz": -330
    },
    "id": "tVMO_7ocnVIW"
   },
   "outputs": [],
   "source": [
    "# M# 2 - True (you)\n",
    "# 1 - False (bot)\n",
    "\n",
    "class Env:\n",
    "  \"\"\" \n",
    "  AI playing TicTacToe as your opponent \n",
    "  Solving it using MINMAX Algorithm\n",
    "  state 1 = X\n",
    "  state 2 = O\n",
    "  state 0 = empty block\n",
    "\n",
    "  \"\"\"\n",
    "  def __init__(self):\n",
    "    self.size = 3\n",
    "    self.state = np.zeros( (self.size,self.size),dtype = np.int8)\n",
    "    self.bot = 1\n",
    "    self.pos = (2,2)\n",
    "    self.turn = True\n",
    "    # print(\"ini\")\n",
    "\n",
    "\n",
    "  def isComplete(self,state):\n",
    "    \"\"\" Check wheather game is over and return the winner\n",
    "    0 if its Draw\n",
    "    -1 not complete \"\"\"\n",
    "\n",
    "    li = [1,2]\n",
    "    for i in li:\n",
    "      # horizontal check\n",
    "      for k in range(self.size):\n",
    "        res = [True if h == i else False for h in state[k,:] ]\n",
    "        if all(res):\n",
    "          return i\n",
    "      # vertical check\n",
    "      for k in range(self.size):\n",
    "        res = [True if h == i else False for h in state[:,k] ]\n",
    "        if all(res):\n",
    "          return i\n",
    "\n",
    "      for k in range(self.size):\n",
    "        res = [True if state[k][k] == i else False for k in range(self.size) ]\n",
    "        res1 = [True if state[k][self.size-k-1] == i else False for k in range(self.size) ]\n",
    "        if all(res) or all(res1):\n",
    "          return i\n",
    "        \n",
    "    flag = False\n",
    "    if(self.countSquare(state) == 0):\n",
    "        # Draw condition\n",
    "      return 0\n",
    "\n",
    "    return -1\n",
    "\n",
    "  def getMoves(self, state,turn):\n",
    "    \"\"\"\n",
    "    Return possible moves from the given state\n",
    "    \"\"\"\n",
    "\n",
    "    move = []\n",
    "    for i in range(self.size):\n",
    "      for j in range(self.size):\n",
    "        if(state[i][j] == 0): \n",
    "          move.append([i,j])\n",
    "    np.random.shuffle(move)\n",
    "    return move\n",
    "\n",
    "\n",
    "  def countSquare(self,state):\n",
    "    count = 0\n",
    "    for i in range(self.size):\n",
    "      for j in range(self.size):\n",
    "        if(state[i][j] == 0): \n",
    "          count+=1\n",
    "    return count\n",
    "\n",
    "  def executeMove(self,state,move,turn):\n",
    "    #   print(\"execute move \",turn)\n",
    "      assert len(state) == 3\n",
    "      player = 2 if turn else 1\n",
    "      state[move[0]][move[1]] = player\n",
    "      return state\n",
    "\n",
    "\n",
    "  def engine(self,debug = False):\n",
    "\n",
    "      print(\"turn = \",self.turn)\n",
    "\n",
    "      n = Node(self,turn= self.turn)\n",
    "      n.state = self.state.copy()\n",
    "      n.visited = 1\n",
    "      n.isRoot = True # can be remobed\n",
    "      n.isLeafNode = True\n",
    "\n",
    "\n",
    "      mcts = Mcts(self,self.turn,n,debug = False)\n",
    "\n",
    "      move =  mcts.execute(True)\n",
    "\n",
    "      # del mcts\n",
    "      assert move != None\n",
    "      if debug:\n",
    "          return mcts\n",
    "      return move\n",
    "\n",
    "  def printState(self,state):\n",
    "\n",
    "    \"\"\" Display the board state node.state\"\"\"\n",
    "\n",
    "    for i in range(self.size-1,-1,-1): # printing states in reverse\n",
    "      for j in range(self.size): \n",
    "        if state[i][j] == 0 :\n",
    "          curr = ' '\n",
    "        elif state[i][j] == 1:\n",
    "          curr = 'X'\n",
    "        else:\n",
    "          curr = 'O'  \n",
    "        if j != self.size-1:\n",
    "          print(f\"{curr} | \",end = '')\n",
    "        else:\n",
    "          print(f\"{curr}\")\n",
    "      if i != 0:\n",
    "        print(\"--\"*self.size*2)\n",
    "                                                                                                                                     \n",
    "\n",
    "  def play(self,youFirst = True):\n",
    "    print(\"\\t TicTacToe \\n Bot = X \\n You = O \")\n",
    "    self.turn = youFirst\n",
    "    while True:\n",
    "      clear_output(True)\n",
    "      res = self.isComplete(self.state)\n",
    "      if res in [0,1,2]:\n",
    "        self.printState(self.state)\n",
    "        if res == 0:\n",
    "          print(\"Draw\")\n",
    "          break\n",
    "        print(f\"Player {res} Won\")\n",
    "        break\n",
    "\n",
    "      print(f\"Player {self.turn} thinking ... \")\n",
    "      \n",
    "      self.printState(self.state)\n",
    "      if self.turn:\n",
    "          move = self.engine()\n",
    "          a = int(input(\"intput number\"))-1\n",
    "          x,y = a//3, a%3\n",
    "          self.state = self.executeMove(self.state,[x,y],self.turn)\n",
    "#           self.state = self.executeMove(self.state,move,self.turn)\n",
    "          \n",
    "      else:\n",
    "          move = self.engine()\n",
    "          self.state = self.executeMove(self.state,move,self.turn)\n",
    "\n",
    "      \n",
    "      self.turn = not self.turn\n",
    "    #   time.sleep(0.5)\n",
    "      \n"
   ]
  },
  {
   "cell_type": "code",
   "execution_count": 28,
   "metadata": {
    "colab": {
     "base_uri": "https://localhost:8080/",
     "height": 119
    },
    "colab_type": "code",
    "executionInfo": {
     "elapsed": 28106,
     "status": "ok",
     "timestamp": 1595443259993,
     "user": {
      "displayName": "Pankaj Pundir",
      "photoUrl": "",
      "userId": "12951077964743328573"
     },
     "user_tz": -330
    },
    "id": "Fo7HRuuB_oeG",
    "outputId": "46e618ad-09d0-48bd-bad1-b28404a8c428",
    "scrolled": true
   },
   "outputs": [
    {
     "name": "stdout",
     "output_type": "stream",
     "text": [
      "X | O | O\n",
      "------------\n",
      "O | X | X\n",
      "------------\n",
      "O | X | O\n",
      "Draw\n"
     ]
    }
   ],
   "source": [
    "g = Env()\n",
    "\n",
    "g.play(youFirst=True)"
   ]
  },
  {
   "cell_type": "code",
   "execution_count": 29,
   "metadata": {
    "colab": {},
    "colab_type": "code",
    "executionInfo": {
     "elapsed": 15070,
     "status": "aborted",
     "timestamp": 1595442265886,
     "user": {
      "displayName": "Pankaj Pundir",
      "photoUrl": "",
      "userId": "12951077964743328573"
     },
     "user_tz": -330
    },
    "id": "Zr6fl0800-Qo"
   },
   "outputs": [
    {
     "name": "stdout",
     "output_type": "stream",
     "text": [
      "X | X |  \n",
      "------------\n",
      "  | O | O\n",
      "------------\n",
      "  | O | X\n"
     ]
    }
   ],
   "source": [
    "t = Env()\n",
    "# t.state = np.array([[2,0,0],[1,1,2],[0,0,2]],np.int8)\n",
    "t.state = np.array([[0,2,1],[0,2,2],[1,1,0]],np.int8)\n",
    "# t.state = np.array([[0,0,0],[0,0,0],[2,0,0]],np.int8)\n",
    "# t.state = np.array([[2,0,0],[0,1,0],[1,0,2]],np.int8)\n",
    "t.printState(t.state)"
   ]
  },
  {
   "cell_type": "code",
   "execution_count": 30,
   "metadata": {
    "colab": {
     "base_uri": "https://localhost:8080/",
     "height": 34
    },
    "colab_type": "code",
    "executionInfo": {
     "elapsed": 2712,
     "status": "ok",
     "timestamp": 1595440412619,
     "user": {
      "displayName": "Pankaj Pundir",
      "photoUrl": "",
      "userId": "12951077964743328573"
     },
     "user_tz": -330
    },
    "id": "9PomOdHBcsSQ",
    "outputId": "c5dd1982-9581-43d9-c754-65dce0247864"
   },
   "outputs": [
    {
     "name": "stdout",
     "output_type": "stream",
     "text": [
      "turn =  True\n"
     ]
    }
   ],
   "source": [
    "t.turn = True\n",
    "m = t.engine(debug = True)\n",
    "node = m.root "
   ]
  },
  {
   "cell_type": "code",
   "execution_count": 31,
   "metadata": {
    "colab": {
     "base_uri": "https://localhost:8080/",
     "height": 1000
    },
    "colab_type": "code",
    "executionInfo": {
     "elapsed": 2174,
     "status": "ok",
     "timestamp": 1595440412621,
     "user": {
      "displayName": "Pankaj Pundir",
      "photoUrl": "",
      "userId": "12951077964743328573"
     },
     "user_tz": -330
    },
    "id": "i8D7ng1uxJUw",
    "outputId": "1ecda470-dffd-48e8-c8a7-8ead9b1ea9bb",
    "scrolled": true
   },
   "outputs": [
    {
     "name": "stdout",
     "output_type": "stream",
     "text": [
      "X | X |  \n",
      "------------\n",
      "  | O | O\n",
      "------------\n",
      "O | O | X\n",
      "----\n",
      "inf\n",
      "23\n",
      "5\n",
      "X | X | O\n",
      "------------\n",
      "  | O | O\n",
      "------------\n",
      "  | O | X\n",
      "----\n",
      "inf\n",
      "2543\n",
      "2543\n",
      "X | X |  \n",
      "------------\n",
      "O | O | O\n",
      "------------\n",
      "  | O | X\n",
      "----\n",
      "inf\n",
      "2543\n",
      "2543\n"
     ]
    }
   ],
   "source": [
    "for i in node.childNodes:\n",
    "    i.print()\n",
    "    print(i.value)\n",
    "    # print(i.ifcount)\n",
    "    print(i.visited)\n",
    "    print(i.win)"
   ]
  },
  {
   "cell_type": "code",
   "execution_count": null,
   "metadata": {
    "colab": {
     "base_uri": "https://localhost:8080/",
     "height": 136
    },
    "colab_type": "code",
    "executionInfo": {
     "elapsed": 1043,
     "status": "ok",
     "timestamp": 1595419685787,
     "user": {
      "displayName": "Pankaj Pundir",
      "photoUrl": "",
      "userId": "12951077964743328573"
     },
     "user_tz": -330
    },
    "id": "EFr9HUJTyFup",
    "outputId": "62b002ad-30d9-40c4-e0ef-de06afb870d3"
   },
   "outputs": [],
   "source": [
    "n1 = node.childNodes[1]\n",
    "n1.print()\n",
    "n1.turn"
   ]
  },
  {
   "cell_type": "code",
   "execution_count": null,
   "metadata": {
    "colab": {
     "base_uri": "https://localhost:8080/",
     "height": 476
    },
    "colab_type": "code",
    "executionInfo": {
     "elapsed": 784,
     "status": "ok",
     "timestamp": 1595419686249,
     "user": {
      "displayName": "Pankaj Pundir",
      "photoUrl": "",
      "userId": "12951077964743328573"
     },
     "user_tz": -330
    },
    "id": "bj4YGevXySZX",
    "outputId": "e528298d-61e1-488e-9fc5-dddf4b2235a1"
   },
   "outputs": [],
   "source": [
    "for i in n1.childNodes:\n",
    "    i.print()\n",
    "    print(i.value)\n",
    "    # print(i.ifcount)\n",
    "    print(i.visited)\n",
    "    print(i.win)"
   ]
  },
  {
   "cell_type": "code",
   "execution_count": null,
   "metadata": {
    "colab": {
     "base_uri": "https://localhost:8080/",
     "height": 221
    },
    "colab_type": "code",
    "executionInfo": {
     "elapsed": 4135,
     "status": "ok",
     "timestamp": 1595143236659,
     "user": {
      "displayName": "Pankaj Pundir",
      "photoUrl": "",
      "userId": "12951077964743328573"
     },
     "user_tz": -330
    },
    "id": "TTdGuZ0kxM8m",
    "outputId": "1ac13f72-e9f3-41fa-a521-6f068315ee8e"
   },
   "outputs": [],
   "source": [
    "# node.findChilds()\n",
    "node.print()\n",
    "n1 = m.selection(node)\n",
    "n1.print()"
   ]
  },
  {
   "cell_type": "code",
   "execution_count": null,
   "metadata": {
    "colab": {
     "base_uri": "https://localhost:8080/",
     "height": 34
    },
    "colab_type": "code",
    "executionInfo": {
     "elapsed": 2218,
     "status": "ok",
     "timestamp": 1595061463344,
     "user": {
      "displayName": "Pankaj Pundir",
      "photoUrl": "",
      "userId": "12951077964743328573"
     },
     "user_tz": -330
    },
    "id": "9s57UNup1x4L",
    "outputId": "b69c5c34-12bf-4e73-a88a-6df5b804f967"
   },
   "outputs": [],
   "source": [
    "# n1 == node"
   ]
  },
  {
   "cell_type": "code",
   "execution_count": null,
   "metadata": {
    "colab": {
     "base_uri": "https://localhost:8080/",
     "height": 187
    },
    "colab_type": "code",
    "executionInfo": {
     "elapsed": 2947,
     "status": "ok",
     "timestamp": 1595061466855,
     "user": {
      "displayName": "Pankaj Pundir",
      "photoUrl": "",
      "userId": "12951077964743328573"
     },
     "user_tz": -330
    },
    "id": "rbIBOVZpyee9",
    "outputId": "8b416cb8-c543-474a-d243-e07937fe42bb"
   },
   "outputs": [],
   "source": [
    "for j in range(10):\n",
    "    val = m.rollout(n1)\n",
    "    m.backpropagate(n1,val)\n",
    "    print(val)"
   ]
  },
  {
   "cell_type": "code",
   "execution_count": null,
   "metadata": {
    "colab": {
     "base_uri": "https://localhost:8080/",
     "height": 34
    },
    "colab_type": "code",
    "executionInfo": {
     "elapsed": 1888,
     "status": "ok",
     "timestamp": 1595057980879,
     "user": {
      "displayName": "Pankaj Pundir",
      "photoUrl": "",
      "userId": "12951077964743328573"
     },
     "user_tz": -330
    },
    "id": "2gRrr5K-zKLN",
    "outputId": "6a0f6c1b-fe13-4bd9-f6f5-e300a77a2165"
   },
   "outputs": [],
   "source": [
    "n1.value "
   ]
  },
  {
   "cell_type": "code",
   "execution_count": null,
   "metadata": {
    "colab": {
     "base_uri": "https://localhost:8080/",
     "height": 34
    },
    "colab_type": "code",
    "executionInfo": {
     "elapsed": 3301,
     "status": "ok",
     "timestamp": 1595061475524,
     "user": {
      "displayName": "Pankaj Pundir",
      "photoUrl": "",
      "userId": "12951077964743328573"
     },
     "user_tz": -330
    },
    "id": "T-zUXU8W0PiV",
    "outputId": "5d128732-5ec5-4147-fdc0-7e9417371d22"
   },
   "outputs": [],
   "source": [
    "print(n1.win,n1.visited,node.visited)"
   ]
  },
  {
   "cell_type": "code",
   "execution_count": null,
   "metadata": {
    "colab": {
     "base_uri": "https://localhost:8080/",
     "height": 34
    },
    "colab_type": "code",
    "executionInfo": {
     "elapsed": 2099,
     "status": "ok",
     "timestamp": 1595061475528,
     "user": {
      "displayName": "Pankaj Pundir",
      "photoUrl": "",
      "userId": "12951077964743328573"
     },
     "user_tz": -330
    },
    "id": "z9ksy6Vzy8Qn",
    "outputId": "2c854f53-27d9-4077-da12-8356186dcbb8"
   },
   "outputs": [],
   "source": [
    "m.nodeValue(n1.win,n1.visited,node.visited)"
   ]
  },
  {
   "cell_type": "code",
   "execution_count": null,
   "metadata": {
    "colab": {
     "base_uri": "https://localhost:8080/",
     "height": 119
    },
    "colab_type": "code",
    "executionInfo": {
     "elapsed": 1439,
     "status": "ok",
     "timestamp": 1595061650379,
     "user": {
      "displayName": "Pankaj Pundir",
      "photoUrl": "",
      "userId": "12951077964743328573"
     },
     "user_tz": -330
    },
    "id": "2xwqUk4QE0MU",
    "outputId": "f7dda4f6-61fd-44e5-a8bb-f08efcf26615"
   },
   "outputs": [],
   "source": [
    "n2 = n2.best()\n",
    "n2.print()"
   ]
  },
  {
   "cell_type": "code",
   "execution_count": null,
   "metadata": {
    "colab": {},
    "colab_type": "code",
    "id": "pUr4lN5eFkXm"
   },
   "outputs": [],
   "source": [
    "for i in range(50):\n",
    "    n3 = m.selection(n2)\n",
    "    "
   ]
  },
  {
   "cell_type": "code",
   "execution_count": null,
   "metadata": {
    "colab": {
     "base_uri": "https://localhost:8080/",
     "height": 782
    },
    "colab_type": "code",
    "executionInfo": {
     "elapsed": 1400,
     "status": "ok",
     "timestamp": 1595062692605,
     "user": {
      "displayName": "Pankaj Pundir",
      "photoUrl": "",
      "userId": "12951077964743328573"
     },
     "user_tz": -330
    },
    "id": "ebF1trE6xQpK",
    "outputId": "614b0f7a-975c-43ee-a875-0a21aef8700e"
   },
   "outputs": [],
   "source": []
  },
  {
   "cell_type": "code",
   "execution_count": null,
   "metadata": {
    "colab": {},
    "colab_type": "code",
    "id": "fQ2H5BdvxQfG"
   },
   "outputs": [],
   "source": []
  },
  {
   "cell_type": "code",
   "execution_count": null,
   "metadata": {
    "colab": {
     "base_uri": "https://localhost:8080/",
     "height": 187
    },
    "colab_type": "code",
    "executionInfo": {
     "elapsed": 1577,
     "status": "ok",
     "timestamp": 1595056527228,
     "user": {
      "displayName": "Pankaj Pundir",
      "photoUrl": "",
      "userId": "12951077964743328573"
     },
     "user_tz": -330
    },
    "id": "EH8Myu1hvXE9",
    "outputId": "8abd9692-8ace-4868-8aa2-1783e676291f"
   },
   "outputs": [],
   "source": []
  },
  {
   "cell_type": "code",
   "execution_count": null,
   "metadata": {
    "colab": {
     "base_uri": "https://localhost:8080/",
     "height": 34
    },
    "colab_type": "code",
    "executionInfo": {
     "elapsed": 1029,
     "status": "ok",
     "timestamp": 1595019004139,
     "user": {
      "displayName": "Pankaj Pundir",
      "photoUrl": "",
      "userId": "12951077964743328573"
     },
     "user_tz": -330
    },
    "id": "LXBidxULhzxy",
    "outputId": "4094b270-0582-4aca-8a44-fb0486ffb7d2"
   },
   "outputs": [],
   "source": [
    "node.isExpanded"
   ]
  },
  {
   "cell_type": "code",
   "execution_count": null,
   "metadata": {
    "colab": {
     "base_uri": "https://localhost:8080/",
     "height": 102
    },
    "colab_type": "code",
    "executionInfo": {
     "elapsed": 979,
     "status": "ok",
     "timestamp": 1595018918793,
     "user": {
      "displayName": "Pankaj Pundir",
      "photoUrl": "",
      "userId": "12951077964743328573"
     },
     "user_tz": -330
    },
    "id": "tWalu74wc4p1",
    "outputId": "db3c512e-dcf1-4f8d-de71-d02cbd3037d5"
   },
   "outputs": [],
   "source": [
    "n1 =  m.selection(node)\n",
    "n1.print()"
   ]
  },
  {
   "cell_type": "code",
   "execution_count": null,
   "metadata": {
    "colab": {
     "base_uri": "https://localhost:8080/",
     "height": 34
    },
    "colab_type": "code",
    "executionInfo": {
     "elapsed": 1132,
     "status": "ok",
     "timestamp": 1595018924444,
     "user": {
      "displayName": "Pankaj Pundir",
      "photoUrl": "",
      "userId": "12951077964743328573"
     },
     "user_tz": -330
    },
    "id": "6e1YjBNjgnHF",
    "outputId": "b3cbf167-8330-497c-ef0e-889efbc12950"
   },
   "outputs": [],
   "source": [
    "# m.rollout(n1)\n",
    "print(n1.win/n1.visited,n1.value)"
   ]
  },
  {
   "cell_type": "code",
   "execution_count": null,
   "metadata": {
    "colab": {
     "base_uri": "https://localhost:8080/",
     "height": 34
    },
    "colab_type": "code",
    "executionInfo": {
     "elapsed": 7550,
     "status": "ok",
     "timestamp": 1595144817688,
     "user": {
      "displayName": "Pankaj Pundir",
      "photoUrl": "",
      "userId": "12951077964743328573"
     },
     "user_tz": -330
    },
    "id": "ZGGSDZ0yNzWm",
    "outputId": "02e4581d-7316-4fba-b68d-fa1f966ac5e4"
   },
   "outputs": [],
   "source": [
    "! ls\n"
   ]
  },
  {
   "cell_type": "code",
   "execution_count": null,
   "metadata": {
    "colab": {
     "base_uri": "https://localhost:8080/",
     "height": 51
    },
    "colab_type": "code",
    "executionInfo": {
     "elapsed": 1195,
     "status": "ok",
     "timestamp": 1595018187590,
     "user": {
      "displayName": "Pankaj Pundir",
      "photoUrl": "",
      "userId": "12951077964743328573"
     },
     "user_tz": -330
    },
    "id": "MRYYDs4HfBQU",
    "outputId": "59dc7e4c-6457-41ab-e206-0343dbf64f46"
   },
   "outputs": [],
   "source": [
    "h = node.childNodes[7]\n",
    "print(h.childNodesExtracted)\n",
    "print(h.childNodes)"
   ]
  },
  {
   "cell_type": "code",
   "execution_count": null,
   "metadata": {
    "colab": {},
    "colab_type": "code",
    "id": "h28z0q2ZpIZW"
   },
   "outputs": [],
   "source": [
    "class TestNotebook(unittest.TestCase):\n",
    "\n",
    "    def test_Node(self):\n",
    "        n = Node(Env,True)\n",
    "        self.assertEqual(n.value, float(\"inf\"))\n",
    "\n",
    "    def test_add_child(self):\n",
    "        n = Node(Env,True)\n",
    "        n.value = 9\n",
    "\n",
    "        n1 = Node(Env,True)\n",
    "        n1.value = 5\n",
    "        n.addChild(n1)\n",
    "        child = n.childNodes[0]\n",
    "        self.assertEqual(child.value, 5)\n",
    "        parent = child.parent\n",
    "        self.assertEqual(parent.value, 9)\n",
    "\n",
    "unittest.main(argv=[''], verbosity=0, exit=False)"
   ]
  },
  {
   "cell_type": "code",
   "execution_count": null,
   "metadata": {
    "colab": {
     "base_uri": "https://localhost:8080/",
     "height": 51
    },
    "colab_type": "code",
    "executionInfo": {
     "elapsed": 1494,
     "status": "ok",
     "timestamp": 1594909026234,
     "user": {
      "displayName": "Pankaj Pundir",
      "photoUrl": "",
      "userId": "12951077964743328573"
     },
     "user_tz": -330
    },
    "id": "IgxtgiV6pL6v",
    "outputId": "a10c651f-0afa-4334-8405-444dce2b024b"
   },
   "outputs": [],
   "source": [
    "class base:\n",
    "    def __init__(self):\n",
    "        self.p = 9\n",
    "        print(\"ini\")\n",
    "\n",
    "class derived(base):\n",
    "    def __init__(self):\n",
    "        base.__init__(self)\n",
    "    # self.q = 4\n",
    "\n",
    "d = derived()\n",
    "d.p\n",
    "\n",
    "# class Game(Mcts,Env):\n",
    "#     def __init__(self):\n",
    "#         Env.__init__(self)\n",
    "#         Mcts.__init__(self)\n",
    "\n",
    "#     def findChilds(self):\n",
    "#         # find all childs and add them\n",
    "#         # self.isExpanded = True\n",
    "#         print(Env.getMove(self,self.state))\n",
    "\n"
   ]
  },
  {
   "cell_type": "code",
   "execution_count": null,
   "metadata": {
    "colab": {
     "base_uri": "https://localhost:8080/",
     "height": 34
    },
    "colab_type": "code",
    "executionInfo": {
     "elapsed": 1585,
     "status": "ok",
     "timestamp": 1595018715459,
     "user": {
      "displayName": "Pankaj Pundir",
      "photoUrl": "",
      "userId": "12951077964743328573"
     },
     "user_tz": -330
    },
    "id": "ZW5lIwBCrBdH",
    "outputId": "87f98934-a55b-4c2a-e1af-ad1863e5e208"
   },
   "outputs": [],
   "source": [
    "if float('inf') > 7:\n",
    "    print(\"t\")"
   ]
  },
  {
   "cell_type": "code",
   "execution_count": null,
   "metadata": {
    "colab": {},
    "colab_type": "code",
    "id": "qsdzSjmK9iBr"
   },
   "outputs": [],
   "source": []
  },
  {
   "cell_type": "code",
   "execution_count": null,
   "metadata": {},
   "outputs": [],
   "source": []
  }
 ],
 "metadata": {
  "colab": {
   "collapsed_sections": [],
   "name": "TicTacToe_AI_MCTS.ipynb",
   "provenance": []
  },
  "kernelspec": {
   "display_name": "Python 3",
   "language": "python",
   "name": "python3"
  },
  "language_info": {
   "codemirror_mode": {
    "name": "ipython",
    "version": 3
   },
   "file_extension": ".py",
   "mimetype": "text/x-python",
   "name": "python",
   "nbconvert_exporter": "python",
   "pygments_lexer": "ipython3",
   "version": "3.6.5"
  }
 },
 "nbformat": 4,
 "nbformat_minor": 2
}
