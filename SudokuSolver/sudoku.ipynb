{
 "cells": [
  {
   "cell_type": "code",
   "execution_count": 69,
   "metadata": {},
   "outputs": [],
   "source": [
    "def empty(s):\n",
    "    for i in range(len(s)):\n",
    "        for j in range(len(s[0])):\n",
    "            if(s[i][j]) == 0:\n",
    "                return i,j\n",
    "    return -1,-1"
   ]
  },
  {
   "cell_type": "code",
   "execution_count": 70,
   "metadata": {},
   "outputs": [],
   "source": [
    "def valid(s, i, j, num):\n",
    "    \n",
    "    #     row\n",
    "    \n",
    "    for a in range(9):\n",
    "        if(s[i][a] == num and a!= j):\n",
    "            return False\n",
    "        \n",
    "    #     column\n",
    "    \n",
    "    for a in range(9):\n",
    "        if s[a][j] == num and a!=i:\n",
    "            return False\n",
    "    \n",
    "    #     subgrid\n",
    "    ba = i//3\n",
    "    bb = j//3\n",
    "    \n",
    "    for a in range(ba*3, ba*3+3):\n",
    "        for b in range(bb*3, bb*3+3):\n",
    "            if s[a][b]==num and a!=i and b!=j:\n",
    "                return False\n",
    "    \n",
    "    return True;\n",
    "            "
   ]
  },
  {
   "cell_type": "code",
   "execution_count": 71,
   "metadata": {},
   "outputs": [],
   "source": [
    "def solve(s):\n",
    "    a, b = empty(s)\n",
    "#     print(a,b)\n",
    "    if(a == -1):\n",
    "        return True\n",
    "    \n",
    "    for i in range(1,10):\n",
    "        \n",
    "        if(valid(s, a, b, i)):\n",
    "#             print(valid(s, a, b, i))\n",
    "            s[a][b] = i;\n",
    "#         print(s)\n",
    "            if solve(s):\n",
    "                return True;\n",
    "\n",
    "            s[a][b] = 0;\n",
    "    \n",
    "    return False;"
   ]
  },
  {
   "cell_type": "code",
   "execution_count": 76,
   "metadata": {},
   "outputs": [],
   "source": [
    "# s = [\n",
    "#     [7,8,0,4,0,0,1,2,0],\n",
    "#     [6,0,0,0,7,5,0,0,9],\n",
    "#     [0,0,0,6,0,1,0,7,8],\n",
    "#     [0,0,7,0,4,0,2,6,0],\n",
    "#     [0,0,1,0,5,0,9,3,0],\n",
    "#     [9,0,4,0,6,0,0,0,5],\n",
    "#     [0,7,0,3,0,0,0,1,2](,\n",
    "#     [1,2,0,0,0,7,4,0,0],\n",
    "#     [0,4,9,2,0,6,0,0,7]\n",
    "# ]\n",
    "\n",
    "# solve(s)\n",
    "\n",
    "def print_sudoku(s):\n",
    "\n",
    "    for i in range(len(s)):\n",
    "        for j in range(len(s[0])):\n",
    "            if(i%3 == 0 and j==0 and i!=0):\n",
    "                print(\"---------- ----------- -----------\")\n",
    "            print(str(s[i][j])+' | ', end =\"\")\n",
    "        print()"
   ]
  },
  {
   "cell_type": "code",
   "execution_count": null,
   "metadata": {},
   "outputs": [],
   "source": []
  }
 ],
 "metadata": {
  "kernelspec": {
   "display_name": "Python 3",
   "language": "python",
   "name": "python3"
  },
  "language_info": {
   "codemirror_mode": {
    "name": "ipython",
    "version": 3
   },
   "file_extension": ".py",
   "mimetype": "text/x-python",
   "name": "python",
   "nbconvert_exporter": "python",
   "pygments_lexer": "ipython3",
   "version": "3.7.2"
  }
 },
 "nbformat": 4,
 "nbformat_minor": 2
}
